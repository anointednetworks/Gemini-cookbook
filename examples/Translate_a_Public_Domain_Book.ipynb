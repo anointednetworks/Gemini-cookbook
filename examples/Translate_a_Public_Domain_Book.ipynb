{
  "cells": [
    {
      "cell_type": "markdown",
      "metadata": {
        "id": "KLHiTPXNTf2a"
      },
      "source": [
        "##### Copyright 2024 Google LLC."
      ]
    },
    {
      "cell_type": "code",
      "execution_count": null,
      "metadata": {
        "cellView": "form",
        "id": "oTuT5CsaTigz"
      },
      "outputs": [],
      "source": [
        "# @title Licensed under the Apache License, Version 2.0 (the \"License\");\n",
        "# you may not use this file except in compliance with the License.\n",
        "# You may obtain a copy of the License at\n",
        "#\n",
        "# https://www.apache.org/licenses/LICENSE-2.0\n",
        "#\n",
        "# Unless required by applicable law or agreed to in writing, software\n",
        "# distributed under the License is distributed on an \"AS IS\" BASIS,\n",
        "# WITHOUT WARRANTIES OR CONDITIONS OF ANY KIND, either express or implied.\n",
        "# See the License for the specific language governing permissions and\n",
        "# limitations under the License."
      ]
    },
    {
      "cell_type": "markdown",
      "metadata": {
        "id": "-LiUeU4em33f"
      },
      "source": [
        "# Gemini API: Translate a public domain book"
      ]
    },
    {
      "cell_type": "markdown",
      "metadata": {
        "id": "D7KnozoY6B3I"
      },
      "source": [
        "<table class=\"tfo-notebook-buttons\" align=\"left\">\n",
        "  <td>\n",
        "    <a target=\"_blank\" href=\"https://colab.research.google.com/github/google-gemini/cookbook/blob/main/examples/Translate_a_Public_Domain_Book.ipynb\"><img src = \"https://www.tensorflow.org/images/colab_logo_32px.png\"/>Run in Google Colab</a>\n",
        "  </td>\n",
        "</table>"
      ]
    },
    {
      "cell_type": "markdown",
      "metadata": {
        "id": "SRKGwj7Cu2CU"
      },
      "source": [
        "In this notebook, you will explore Gemini model as a translation tool, demonstrating how to prepare data, create effective prompts, and save results into a `.txt` file.\n",
        "\n",
        "This approach significantly improves knowledge accessibility. Various sources provide open-source books. In this notebook, you will use [Project Gutenberg](https://www.gutenberg.org/) as a resource.\n",
        "\n",
        "\n",
        "This platform provides access to a wide range of books available for free download in PDF, eBook, TXT formats and more."
      ]
    },
    {
      "cell_type": "code",
      "execution_count": 1,
      "metadata": {
        "id": "Gq_NixYDpsLN"
      },
      "outputs": [
        {
          "name": "stdout",
          "output_type": "stream",
          "text": [
            "\u001b[2K     \u001b[90m━━━━━━━━━━━━━━━━━━━━━━━━━━━━━━━━━━━━━━━━\u001b[0m \u001b[32m163.1/163.1 kB\u001b[0m \u001b[31m2.3 MB/s\u001b[0m eta \u001b[36m0:00:00\u001b[0m\n",
            "\u001b[2K     \u001b[90m━━━━━━━━━━━━━━━━━━━━━━━━━━━━━━━━━━━━━━━━\u001b[0m \u001b[32m717.3/717.3 kB\u001b[0m \u001b[31m17.0 MB/s\u001b[0m eta \u001b[36m0:00:00\u001b[0m\n",
            "\u001b[?25h"
          ]
        }
      ],
      "source": [
        "!pip install -U -q google-generativeai tqdm"
      ]
    },
    {
      "cell_type": "code",
      "execution_count": 2,
      "metadata": {
        "id": "9fxS1iFpEVTH"
      },
      "outputs": [],
      "source": [
        "import google.generativeai as genai\n",
        "\n",
        "from tqdm import tqdm\n",
        "from IPython.display import Markdown"
      ]
    },
    {
      "cell_type": "markdown",
      "metadata": {
        "id": "FQOGMejVu-6D"
      },
      "source": [
        "## Configure your API key\n",
        "\n",
        "To run the following cell, your API key must be stored in a Colab Secret named `GOOGLE_API_KEY`. If you don't already have an API key, or you're not sure how to create a Colab Secret, see [Authentication](https://github.com/google-gemini/cookbook/blob/main/quickstarts/Authentication.ipynb) for an example.\n"
      ]
    },
    {
      "cell_type": "code",
      "execution_count": 3,
      "metadata": {
        "id": "ysayz8skEfBW"
      },
      "outputs": [],
      "source": [
        "from google.colab import userdata\n",
        "GOOGLE_API_KEY=userdata.get('GOOGLE_API_KEY')\n",
        "\n",
        "genai.configure(api_key=GOOGLE_API_KEY)"
      ]
    },
    {
      "cell_type": "markdown",
      "metadata": {
        "id": "m1WJgnNmv8uM"
      },
      "source": [
        "## Data preparation"
      ]
    },
    {
      "cell_type": "markdown",
      "metadata": {
        "id": "Quunix4gwB-7"
      },
      "source": [
        "You will translate a well-known book written by Arthur Conan Doyle from Polish (trans. Eugenia Żmijewska) to English about the detective Sherlock Holmes. Here are the titles in Polish and English:\n",
        "\n",
        "\n",
        "\n",
        "* Polish Title: *Tajemnica Baskerville'ów: dziwne przygody Sherlocka Holmes*\n",
        "\n",
        "* English Title: *The Hound of the Baskervilles*"
      ]
    },
    {
      "cell_type": "code",
      "execution_count": 4,
      "metadata": {
        "id": "SPR8qlylbrdF"
      },
      "outputs": [
        {
          "name": "stdout",
          "output_type": "stream",
          "text": [
            "  % Total    % Received % Xferd  Average Speed   Time    Time     Time  Current\n",
            "                                 Dload  Upload   Total   Spent    Left  Speed\n",
            "100  277k  100  277k    0     0   852k      0 --:--:-- --:--:-- --:--:--  854k\n"
          ]
        }
      ],
      "source": [
        "!curl https://www.gutenberg.org/cache/epub/34079/pg34079.txt > Sherlock.txt"
      ]
    },
    {
      "cell_type": "code",
      "execution_count": 5,
      "metadata": {
        "id": "pPbU4n4CAEKu"
      },
      "outputs": [],
      "source": [
        "with open(\"/content/Sherlock.txt\") as f:\n",
        "      book = f.read()"
      ]
    },
    {
      "cell_type": "markdown",
      "metadata": {
        "id": "-hPhMBNLNiH-"
      },
      "source": [
        "Books contain all sorts of fictional or historical descriptions, some of them rather literal and might cause the model to stop from performing translation query. To prevent some of those exceptions users are able to change `safety_setting` from default to more open approach."
      ]
    },
    {
      "cell_type": "code",
      "execution_count": 6,
      "metadata": {
        "id": "SsTS7UBCpwCo"
      },
      "outputs": [],
      "source": [
        "safety_settings = [\n",
        "    {\n",
        "        \"category\": \"HARM_CATEGORY_HARASSMENT\",\n",
        "        \"threshold\": \"BLOCK_NONE\",\n",
        "    },\n",
        "    {\n",
        "        \"category\": \"HARM_CATEGORY_HATE_SPEECH\",\n",
        "        \"threshold\": \"BLOCK_NONE\",\n",
        "    },\n",
        "    {\n",
        "        \"category\": \"HARM_CATEGORY_SEXUALLY_EXPLICIT\",\n",
        "        \"threshold\": \"BLOCK_NONE\",\n",
        "    },\n",
        "    {\n",
        "        \"category\": \"HARM_CATEGORY_DANGEROUS_CONTENT\",\n",
        "        \"threshold\": \"BLOCK_NONE\",\n",
        "    },\n",
        "]"
      ]
    },
    {
      "cell_type": "markdown",
      "metadata": {
        "id": "i_xbb7Ce_NI9"
      },
      "source": [
        "Go ahead and initialize the Gemini 1.5 Flash model for this task."
      ]
    },
    {
      "cell_type": "code",
      "execution_count": 7,
      "metadata": {
        "id": "iMFiWDxUPd5u"
      },
      "outputs": [],
      "source": [
        "model = genai.GenerativeModel('gemini-1.5-flash-latest')\n",
        "\n",
        "def generate_output(prompt):\n",
        "    response = model.generate_content(\n",
        "        prompt,\n",
        "        safety_settings=safety_settings,\n",
        "        request_options = {\n",
        "            \"timeout\": 1000\n",
        "        }\n",
        "    )\n",
        "\n",
        "    try:\n",
        "        return response.text\n",
        "    except Exception as ex:\n",
        "        raise ex"
      ]
    },
    {
      "cell_type": "markdown",
      "metadata": {
        "id": "HKdF4PQxGRlZ"
      },
      "source": [
        "Begin by counting how many tokens are in the book to know if you need to proceed with the next step (split text into smaller chunks)."
      ]
    },
    {
      "cell_type": "markdown",
      "metadata": {
        "id": "XSxTHrcNJ3Te"
      },
      "source": [
        "## Token Information\n",
        "\n",
        "LLMs are constrained by token limits. In order to stay within the limit of Gemini 1.5 Flash, it's important to ensure the following:\n",
        "\n",
        "* Input token limit should not exceed: 1,048,576 tokens\n",
        "* Output token limit should not exceed: 8,192 tokens\n",
        "\n",
        "Since input chunks of post-translation text will serve as outputs, it's advisable to split them into smaller segments.\n",
        "\n",
        "As you will see in the example, there are over 1000 small chunks. Calling API for the token count of each one would take a long time. Because of this estimate 1 token is equal to 4 characters will be used.\n",
        "\n",
        "To account for the possible miscalculation of tokens and output potentially being longer than input each chunk will use up to 4*5000 characters. Remember to adjust the maximum to your needs.\n",
        "\n",
        "For more details on tokens in Gemini models, refer to the documentation [here](https://ai.google.dev/gemini-api/docs/models/gemini\n",
        ")."
      ]
    },
    {
      "cell_type": "markdown",
      "metadata": {
        "id": "SFdNjziVXKI2"
      },
      "source": [
        "### Split text into chunks\n",
        "Adjust the number of whitespace characters used for splitting based on the book you are working with.\n",
        "\n",
        "Then, ensure to consider token limitations to receive complete responses from the model.\n"
      ]
    },
    {
      "cell_type": "code",
      "execution_count": 8,
      "metadata": {
        "id": "-0Su5klXZH-w"
      },
      "outputs": [
        {
          "name": "stdout",
          "output_type": "stream",
          "text": [
            "Number of chunks: 1802\n"
          ]
        }
      ],
      "source": [
        "chunks = book[:book.find(\"END OF THE PROJECT GUTENBERG EBOOK TAJEMNICA BASKERVILLE'ÓW: DZIWNE PRZYGODY SHERLOCKA HOLMES\")].split(\"\\n\\n\")\n",
        "\n",
        "num_chunks = len(chunks)\n",
        "print(f\"Number of chunks: {num_chunks}\")"
      ]
    },
    {
      "cell_type": "code",
      "execution_count": 9,
      "metadata": {
        "id": "iptclxMgLxjC"
      },
      "outputs": [
        {
          "name": "stdout",
          "output_type": "stream",
          "text": [
            "[134.5, 16.25, 6.5, 7.25, 25.0, 4.0, 58.25, 26.0, 50.25, 148.0, 10.25, 11.0, 7.5, 8.5, 10.0, 9.5, 9.25, 7.75, 9.25, 9.5, 7.25, 11.25, 0.75, 5.0, 136.75, 22.25, 37.0, 12.5, 73.25, 45.0, 11.5, 24.25, 8.5, 45.5, 11.75, 31.75, 50.0, 48.0, 45.25, 22.0, 38.25, 52.25, 6.75, 6.25, 3.75, 54.25, 19.5, 15.75, 24.25, 45.25, 4.5, 152.75, 22.0, 72.0, 135.0, 91.5, 9.75, 53.5, 38.0, 5.25, 120.0, 128.0, 37.5, 9.25, 3.5, 10.25, 15.75, 11.25, 15.5, 27.75, 31.25, 16.5, 13.75, 10.25, 73.25, 44.5, 66.0, 13.5, 28.0, 11.25, 43.0, 33.5, 1.0, 7.5, 14.5, 17.5, 6.25, 5.5, 4.0, 78.5, 16.5, 9.0, 111.0, 17.75, 35.75, 34.5, 15.5, 21.0, 30.5, 57.5, 33.75, 21.75, 158.75, 60.5, 39.0, 110.0, 125.75, 124.5, 66.0, 55.75, 40.25, 63.0, 54.5, 84.75, 45.0, 33.5, 90.5, 138.25, 37.75, 10.0, 38.75, 5.5, 10.25, 12.25, 10.0, 66.0, 19.5, 125.75, 62.5, 50.25, 59.25, 44.5, 131.25, 65.75, 20.25, 9.0, 65.5, 32.0, 50.75, 52.75, 68.5, 60.25, 48.25, 54.25, 10.0, 15.5, 8.5, 92.75, 1.75, 17.0, 24.25, 150.75, 29.75, 106.75, 103.75, 76.25, 59.75, 44.75, 76.25, 126.25, 82.75, 5.0, 1.75, 5.75, 21.25, 14.25, 1.25, 2.0, 26.0, 9.75, 14.75, 6.25, 2.25, 12.0, 31.5, 7.0, 18.75, 8.0, 1.75, 5.5, 7.25, 6.0, 1.75, 5.25, 28.0, 10.75, 14.75, 12.0, 8.0, 5.75, 2.25, 20.0, 14.75, 9.75, 12.75, 39.5, 9.75, 12.5, 5.25, 20.0, 9.0, 4.75, 5.5, 9.0, 1.75, 10.75, 10.0, 9.75, 5.75, 10.0, 22.25, 4.75, 12.25, 23.5, 15.0, 9.5, 83.25, 42.25, 6.5, 23.75, 18.25, 7.75, 9.25, 22.75, 3.5, 95.75, 16.75, 77.75, 88.75, 5.25, 10.25, 42.25, 7.0, 62.0, 10.25, 149.25, 15.25, 154.5, 9.0, 36.0, 10.5, 45.5, 70.75, 32.5, 2.75, 18.5, 10.75, 49.25, 6.5, 20.75, 30.75, 5.25, 9.25, 3.0, 7.25, 14.75, 8.0, 8.25, 78.5, 77.75, 81.5, 7.25, 8.0, 14.5, 8.25, 21.5, 12.25, 7.25, 2.25, 71.0, 9.0, 1.75, 8.25, 14.5, 3.75, 118.25, 6.0, 11.0, 15.75, 136.5, 11.5, 18.0, 20.25, 47.0, 6.0, 22.5, 3.5, 94.75, 9.0, 51.0, 10.0, 88.0, 0.75, 5.75, 51.0, 75.25, 15.25, 37.0, 24.75, 13.0, 62.0, 28.75, 20.5, 11.0, 35.5, 10.75, 31.25, 12.5, 20.75, 33.75, 25.5, 26.75, 33.0, 62.5, 3.5, 19.25, 7.75, 21.75, 64.25, 34.5, 22.25, 27.5, 23.0, 27.0, 40.25, 11.25, 40.0, 66.25, 20.25, 13.5, 61.75, 16.5, 23.5, 15.5, 6.5, 19.0, 198.25, 16.75, 34.75, 4.75, 140.75, 24.25, 24.5, 3.25, 10.5, 15.5, 10.25, 12.5, 9.75, 33.25, 19.5, 45.5, 15.75, 18.25, 17.25, 85.75, 20.0, 32.5, 36.25, 25.5, 22.75, 127.75, 26.75, 30.25, 17.0, 44.25, 5.25, 12.5, 26.75, 7.0, 39.5, 36.5, 70.25, 11.0, 5.5, 13.5, 16.75, 50.75, 12.0, 32.5, 124.25, 11.0, 53.25, 43.0, 21.5, 6.75, 4.75, 4.5, 88.75, 4.75, 113.25, 25.75, 119.25, 25.25, 44.5, 7.0, 19.25, 17.0, 28.5, 14.5, 29.5, 6.75, 22.75, 32.0, 31.5, 3.5, 8.75, 4.25, 19.5, 4.25, 39.75, 4.75, 38.75, 2.5, 151.25, 0.75, 4.25, 64.0, 15.25, 19.0, 15.25, 3.0, 47.25, 27.25, 23.5, 9.25, 16.5, 37.5, 26.25, 17.5, 11.0, 48.25, 28.5, 31.0, 6.0, 9.0, 9.25, 52.25, 11.75, 22.0, 27.25, 10.75, 28.0, 8.0, 16.5, 83.75, 35.25, 10.5, 2.25, 5.0, 101.25, 7.0, 5.75, 37.5, 22.25, 9.0, 4.5, 12.75, 4.25, 48.75, 2.75, 66.0, 25.5, 43.75, 31.75, 3.25, 19.25, 11.0, 10.75, 20.0, 7.5, 42.25, 6.75, 28.25, 3.75, 7.5, 8.75, 14.25, 38.75, 64.0, 56.5, 21.5, 54.25, 21.5, 16.75, 12.25, 89.0, 44.75, 8.0, 61.75, 12.5, 52.5, 11.0, 8.75, 27.0, 29.5, 34.25, 29.75, 9.5, 45.0, 10.0, 22.0, 25.5, 7.5, 22.0, 26.5, 10.25, 5.75, 15.75, 25.5, 88.25, 57.75, 18.75, 11.25, 12.25, 9.75, 21.0, 12.0, 31.25, 14.25, 25.75, 16.25, 71.75, 43.75, 20.0, 15.0, 24.5, 8.25, 42.5, 10.75, 37.0, 48.25, 5.0, 7.0, 6.0, 7.75, 1.75, 10.0, 14.75, 4.75, 28.75, 25.25, 1.75, 20.0, 97.5, 5.75, 128.75, 8.0, 1.75, 10.5, 7.75, 48.5, 4.75, 3.0, 7.75, 1.75, 22.5, 7.0, 8.0, 132.0, 1.0, 4.25, 47.0, 48.0, 12.25, 116.5, 17.5, 134.5, 8.0, 7.5, 11.5, 17.5, 20.0, 66.0, 12.75, 31.25, 44.75, 5.75, 41.25, 10.0, 35.75, 52.75, 26.25, 40.5, 90.5, 78.5, 9.25, 17.0, 36.75, 19.5, 35.0, 66.0, 48.75, 72.5, 19.25, 16.75, 14.5, 9.25, 44.5, 24.0, 27.75, 4.75, 19.25, 71.25, 39.0, 70.0, 8.75, 18.75, 41.75, 32.0, 11.25, 19.0, 50.25, 20.75, 30.5, 18.5, 36.25, 24.5, 9.75, 49.5, 20.0, 64.5, 50.25, 34.75, 26.75, 11.75, 3.25, 38.25, 7.25, 39.75, 46.75, 17.5, 49.25, 6.75, 35.5, 73.0, 112.25, 39.5, 28.25, 70.5, 67.5, 16.75, 34.5, 40.0, 1.25, 6.75, 61.25, 60.75, 22.5, 32.0, 18.0, 12.0, 32.0, 35.0, 7.0, 46.5, 31.75, 105.75, 43.0, 35.5, 32.75, 26.5, 4.5, 29.5, 3.5, 8.0, 34.75, 8.0, 13.0, 15.5, 43.25, 53.75, 15.0, 37.0, 41.75, 13.25, 34.75, 23.25, 25.5, 58.0, 72.0, 31.75, 35.5, 4.0, 67.75, 6.75, 20.0, 3.25, 28.25, 25.5, 29.0, 4.25, 55.25, 9.0, 10.25, 22.25, 10.25, 9.75, 16.5, 37.0, 98.25, 11.5, 10.0, 21.5, 55.75, 23.5, 44.25, 36.5, 29.25, 64.25, 67.75, 5.0, 77.75, 10.75, 32.75, 11.75, 27.75, 7.0, 6.0, 112.5, 40.0, 30.5, 13.0, 16.5, 10.75, 38.0, 4.25, 8.0, 40.5, 8.75, 23.5, 13.75, 12.5, 7.5, 36.5, 12.0, 30.75, 16.5, 10.75, 16.5, 1.75, 41.0, 15.75, 24.5, 13.25, 7.5, 53.75, 4.5, 6.0, 6.0, 37.75, 29.75, 44.25, 219.5, 18.75, 18.5, 8.75, 39.75, 8.75, 91.0, 11.5, 12.0, 10.5, 20.25, 14.5, 20.0, 18.75, 6.0, 13.5, 20.75, 16.25, 9.75, 26.0, 34.5, 51.5, 67.5, 43.5, 12.75, 188.0, 26.75, 9.0, 75.0, 9.25, 58.5, 91.75, 40.0, 39.25, 53.75, 35.25, 115.0, 15.75, 112.25, 11.0, 8.0, 6.75, 45.25, 45.75, 16.25, 35.0, 80.0, 17.5, 1.5, 9.25, 41.5, 16.25, 34.75, 53.5, 65.25, 65.5, 57.25, 47.0, 83.0, 128.5, 148.0, 120.25, 92.5, 211.5, 40.25, 52.0, 39.5, 81.0, 127.5, 160.5, 17.75, 43.0, 111.25, 53.0, 29.0, 65.25, 14.0, 8.5, 23.75, 8.0, 9.5, 13.75, 26.75, 33.5, 111.25, 28.75, 10.0, 30.0, 88.5, 69.5, 49.0, 56.25, 21.25, 47.25, 60.0, 28.75, 1.0, 9.5, 4.5, 17.5, 4.0, 20.75, 86.25, 97.0, 41.5, 73.25, 21.75, 44.75, 32.25, 9.0, 38.25, 30.75, 23.0, 19.5, 48.25, 19.25, 34.25, 26.5, 16.75, 17.5, 19.25, 5.75, 30.75, 9.75, 61.0, 26.0, 22.75, 11.5, 12.75, 48.0, 35.75, 23.0, 8.75, 25.75, 65.25, 63.75, 21.5, 38.0, 53.0, 27.25, 19.75, 34.0, 21.75, 35.0, 44.25, 7.75, 13.25, 4.0, 10.25, 1.75, 80.0, 7.75, 50.0, 5.5, 241.0, 31.0, 30.5, 36.75, 34.0, 22.75, 54.5, 36.25, 30.5, 38.0, 48.0, 8.75, 216.5, 26.25, 34.75, 37.0, 27.25, 27.0, 39.25, 33.0, 36.75, 26.0, 16.75, 78.25, 39.75, 11.25, 5.0, 13.5, 27.25, 54.0, 12.75, 16.25, 6.75, 39.5, 19.5, 19.25, 51.0, 7.25, 25.25, 57.75, 12.75, 16.5, 11.25, 8.75, 37.0, 6.25, 25.0, 19.5, 36.5, 15.0, 51.5, 6.75, 10.75, 45.25, 16.0, 41.5, 272.75, 7.0, 13.5, 7.25, 28.0, 33.75, 19.75, 15.5, 10.0, 21.0, 27.0, 107.25, 16.0, 8.0, 47.25, 19.75, 35.0, 5.5, 8.5, 10.5, 26.5, 39.25, 69.5, 15.25, 24.0, 26.5, 15.25, 9.5, 19.5, 12.5, 7.75, 3.5, 15.0, 3.5, 22.75, 10.0, 32.75, 26.25, 40.75, 6.25, 87.75, 5.75, 17.75, 19.25, 4.5, 29.5, 49.5, 71.0, 8.75, 17.5, 71.5, 21.75, 52.75, 80.0, 32.5, 36.5, 62.0, 51.5, 67.0, 52.75, 42.25, 47.0, 59.5, 24.75, 21.75, 33.75, 59.75, 28.0, 41.0, 0.75, 9.0, 62.75, 16.75, 37.25, 45.75, 73.25, 70.0, 52.25, 20.25, 44.0, 25.0, 107.0, 68.0, 46.5, 51.5, 66.25, 37.75, 22.5, 64.75, 54.0, 14.25, 65.0, 60.0, 15.25, 5.25, 25.75, 18.75, 39.5, 14.5, 37.25, 41.0, 26.0, 57.0, 12.5, 13.5, 9.0, 3.0, 17.0, 5.25, 3.5, 6.0, 14.5, 7.0, 68.0, 3.0, 91.5, 9.0, 10.5, 17.75, 28.25, 9.75, 30.25, 18.75, 63.5, 13.0, 26.75, 10.0, 17.75, 13.25, 14.5, 64.75, 36.0, 21.75, 73.25, 16.75, 126.0, 55.75, 119.25, 13.5, 6.5, 17.75, 4.25, 69.25, 7.0, 7.0, 8.75, 48.75, 6.5, 92.25, 34.5, 126.0, 34.75, 40.25, 20.25, 27.5, 7.0, 18.0, 6.75, 14.25, 10.25, 13.5, 5.0, 4.75, 1.75, 5.0, 39.5, 29.5, 22.75, 29.25, 6.0, 52.25, 34.0, 49.5, 10.25, 25.5, 6.5, 25.25, 11.25, 79.0, 1.0, 9.25, 69.5, 81.0, 24.25, 60.0, 57.75, 79.0, 98.5, 14.75, 54.75, 19.75, 8.25, 20.0, 5.75, 32.0, 8.25, 9.5, 10.75, 30.0, 15.75, 12.75, 17.0, 23.5, 10.75, 1.75, 8.0, 29.0, 48.0, 7.5, 53.0, 25.0, 26.5, 6.5, 12.75, 9.5, 12.75, 15.25, 45.75, 52.5, 12.25, 16.25, 38.25, 62.75, 8.5, 42.0, 17.75, 23.25, 12.25, 6.5, 9.75, 29.75, 3.5, 13.25, 44.0, 4.0, 19.0, 85.0, 27.0, 19.0, 15.0, 9.25, 10.5, 50.5, 7.25, 18.0, 38.75, 3.25, 120.25, 13.25, 9.75, 13.25, 23.75, 43.5, 47.75, 56.0, 34.0, 35.5, 158.0, 33.5, 17.25, 42.5, 71.5, 7.0, 236.0, 50.0, 14.75, 24.5, 4.5, 12.25, 64.75, 8.0, 18.75, 16.75, 34.25, 68.5, 25.25, 72.25, 30.0, 87.25, 28.0, 57.75, 21.5, 32.75, 23.5, 15.5, 62.75, 11.5, 27.75, 28.75, 7.75, 46.5, 57.75, 24.5, 75.25, 218.25, 10.5, 61.25, 123.5, 81.0, 37.75, 31.75, 1.25, 4.25, 61.75, 6.5, 13.25, 71.0, 15.75, 9.5, 5.25, 51.0, 8.25, 92.25, 3.0, 47.5, 18.0, 41.5, 6.75, 21.75, 17.25, 35.0, 6.5, 28.5, 1.75, 10.25, 3.5, 30.25, 58.0, 7.5, 31.0, 157.25, 9.5, 99.5, 9.75, 6.75, 48.25, 36.25, 71.25, 36.75, 43.75, 4.5, 49.5, 2.0, 37.5, 19.5, 62.0, 6.5, 20.25, 42.0, 23.25, 10.0, 11.5, 19.5, 174.25, 20.0, 41.0, 10.25, 55.0, 11.25, 31.5, 4.75, 100.75, 14.0, 7.75, 16.25, 7.5, 15.75, 11.5, 14.75, 6.5, 22.25, 17.75, 37.25, 16.5, 40.0, 18.0, 11.5, 4.75, 9.25, 67.25, 31.5, 39.5, 16.5, 74.5, 52.0, 128.5, 70.25, 35.25, 9.5, 54.5, 6.75, 22.5, 19.0, 30.0, 28.75, 12.75, 6.5, 12.25, 37.25, 103.5, 78.25, 8.25, 57.75, 55.5, 22.5, 18.0, 58.25, 37.75, 51.75, 24.75, 8.75, 12.25, 37.0, 13.25, 29.0, 24.0, 12.5, 61.5, 8.0, 3.0, 7.25, 38.75, 9.0, 12.5, 86.25, 38.0, 10.75, 26.75, 41.25, 6.0, 4.75, 27.25, 53.75, 15.5, 42.0, 35.25, 64.75, 6.5, 15.5, 17.75, 45.25, 9.25, 85.5, 5.75, 33.0, 12.75, 113.5, 15.75, 64.75, 5.0, 22.5, 24.25, 7.5, 43.0, 4.5, 36.75, 1.5, 4.5, 94.25, 88.5, 15.25, 72.5, 34.0, 11.0, 35.5, 8.75, 74.0, 46.5, 39.5, 55.0, 21.25, 14.25, 12.25, 3.0, 35.5, 30.75, 11.25, 35.0, 65.75, 55.25, 60.5, 4.5, 7.25, 23.5, 11.5, 44.5, 14.75, 43.75, 12.0, 39.25, 22.25, 43.5, 19.5, 7.25, 61.75, 17.0, 14.0, 6.5, 23.25, 7.75, 11.25, 48.25, 26.5, 49.5, 8.25, 60.75, 11.5, 22.25, 27.75, 5.75, 68.25, 3.25, 10.0, 34.75, 11.25, 8.75, 12.5, 29.25, 11.0, 3.5, 14.5, 36.0, 65.0, 7.25, 24.0, 10.75, 53.75, 16.5, 23.0, 7.25, 32.5, 5.75, 1.75, 36.0, 39.25, 4.25, 29.75, 5.5, 21.0, 75.5, 40.5, 9.5, 54.5, 4.0, 11.5, 19.0, 21.25, 53.75, 47.0, 23.25, 6.5, 34.75, 50.25, 5.0, 52.25, 9.5, 66.75, 9.25, 7.5, 26.75, 24.25, 16.0, 20.0, 28.75, 137.5, 19.0, 137.5, 61.25, 5.0, 23.25, 3.5, 17.5, 47.5, 17.0, 1.75, 21.75, 33.5, 9.75, 8.0, 20.0, 43.75, 10.0, 132.0, 49.25, 8.25, 89.0, 1.25, 4.5, 110.25, 65.75, 52.5, 9.5, 35.25, 16.0, 5.25, 2.5, 32.0, 29.75, 14.25, 50.5, 4.0, 7.75, 6.5, 34.5, 23.25, 17.25, 58.25, 126.5, 14.25, 20.5, 7.75, 16.25, 37.25, 62.75, 115.0, 28.0, 8.75, 12.0, 45.75, 26.0, 9.75, 96.5, 69.75, 15.5, 58.25, 30.5, 34.0, 92.75, 34.5, 52.75, 10.5, 20.0, 39.75, 17.25, 5.5, 71.0, 6.25, 19.0, 28.75, 23.75, 23.0, 32.5, 15.0, 26.75, 26.75, 58.0, 59.0, 12.0, 20.0, 33.5, 21.0, 110.75, 33.5, 36.25, 3.75, 12.5, 6.0, 14.0, 1.75, 2.5, 3.0, 5.5, 17.5, 11.75, 48.5, 4.25, 35.5, 45.0, 7.75, 20.75, 8.75, 51.5, 45.0, 61.25, 42.75, 10.0, 36.25, 37.25, 47.5, 73.75, 59.5, 20.5, 12.25, 59.25, 90.25, 24.25, 57.5, 249.5, 1.0, 4.0, 62.5, 29.25, 70.75, 12.5, 235.5, 31.0, 111.75, 40.75, 73.0, 40.0, 133.25, 57.25, 66.75, 129.25, 93.0, 43.75, 54.75, 53.25, 39.5, 162.25, 20.75, 56.5, 64.0, 65.5, 39.5, 37.5, 27.25, 66.75, 65.25, 63.0, 75.0, 27.5, 105.25, 99.5, 73.0, 67.0, 25.25, 63.5, 88.5, 61.0, 47.5, 40.5, 36.75, 169.5, 89.5, 88.5, 80.75, 48.25, 30.75, 94.0, 30.25, 76.0, 120.75, 66.75, 9.25, 2.25, 7.5, 3.25, 67.5, 51.25, 8.25, 45.25, 120.25, 17.0, 10.5, 74.0, 15.5, 18.75, 25.25, 6.5, 9.5, 12.0, 28.0, 7.75, 16.0, 21.5, 26.25, 26.0, 21.25, 25.0, 23.25, 26.75, 20.25, 24.25, 24.75, 22.5, 23.5, 24.0, 25.0, 19.0, 21.75, 22.25, 16.5, 24.25, 23.0, 23.0, 19.0, 23.5, 31.25, 22.25, 17.5, 18.0, 24.75, 19.0, 25.5, 20.0, 25.25, 23.5, 17.25, 24.75, 21.25, 27.75, 17.0, 22.25, 21.25, 16.0, 24.5, 21.25, 18.5, 20.25, 19.5, 18.5, 1.0]\n"
          ]
        }
      ],
      "source": [
        "estimated_token_counts = []\n",
        "\n",
        "for chunk in chunks:\n",
        "    if not chunk:  # Check if chunk is empty or None\n",
        "        continue  # Skip this iteration if chunk is empty\n",
        "\n",
        "    # Process non-empty chunk\n",
        "    estimated_token_count = len(chunk)/4\n",
        "    estimated_token_counts.append(estimated_token_count)\n",
        "\n",
        "# You can print number of estimated tokens in each non empty chunk to see what are you working with\n",
        "print(estimated_token_counts)"
      ]
    },
    {
      "cell_type": "markdown",
      "metadata": {
        "id": "QfEScOTMgZbx"
      },
      "source": [
        "Identify the largest number of tokens in a chunk to check if any exceed your token limitations. In this case, the chunks are very small, so this should not be an issue.\n",
        "\n",
        "If you encounter this problem, consider splitting the text into even smaller chunks."
      ]
    },
    {
      "cell_type": "code",
      "execution_count": 10,
      "metadata": {
        "id": "q0EtN8D6ynXi"
      },
      "outputs": [
        {
          "data": {
            "text/plain": [
              "272.75"
            ]
          },
          "execution_count": 10,
          "metadata": {},
          "output_type": "execute_result"
        }
      ],
      "source": [
        "max(estimated_token_counts)"
      ]
    },
    {
      "cell_type": "markdown",
      "metadata": {
        "id": "ozz3zNX-3VVL"
      },
      "source": [
        "### Group smaller chunks together\n",
        "As observed above, certain chunks contain very few tokens. While the LLM can translate these sentences accurately, providing larger context can enhance its understanding of the content.\n",
        "\n",
        "Let's combine smaller chunks into larger ones for improved results."
      ]
    },
    {
      "cell_type": "code",
      "execution_count": 11,
      "metadata": {
        "id": "SlWJtNgS6AdW"
      },
      "outputs": [
        {
          "name": "stdout",
          "output_type": "stream",
          "text": [
            "13\n"
          ]
        }
      ],
      "source": [
        "# Combine short chunks into larger groups based on token counts.\n",
        "def chunk_grouping(chunks, token_counts, max_len=5000):\n",
        "    grouped_chunks = []\n",
        "    current_group = \"\"\n",
        "    current_token_sum = 0\n",
        "\n",
        "    # Process each chunk and group them based on token limits\n",
        "    for chunk, count in zip(chunks, token_counts):\n",
        "        # Skip chunks that exceed the max token limit\n",
        "        if count > max_len:\n",
        "            continue\n",
        "\n",
        "        # Add a new chunk if there is space available in the current group.\n",
        "        if current_token_sum + 1 + count <= max_len:\n",
        "            current_group += \"\\n\\n\" + chunk\n",
        "            current_token_sum += 1 + count  # Count in 1 token for newlines\n",
        "\n",
        "        # If adding this chunk exceeds the current group's capacity, start a new group\n",
        "        else:\n",
        "            grouped_chunks.append(current_group)\n",
        "            current_group = chunk\n",
        "            current_token_sum = count\n",
        "\n",
        "    if current_group:  # Add the last remaining group\n",
        "        grouped_chunks.append(current_group)\n",
        "\n",
        "    return grouped_chunks\n",
        "\n",
        "\n",
        "chunks = chunk_grouping(chunks, estimated_token_counts)\n",
        "print(len(chunks))"
      ]
    },
    {
      "cell_type": "markdown",
      "metadata": {
        "id": "2RcTf9Q9cubd"
      },
      "source": [
        "The last step of splitting is checking if the non-estimated token counts are acceptable."
      ]
    },
    {
      "cell_type": "code",
      "execution_count": 12,
      "metadata": {
        "id": "j1rqKAplctEI"
      },
      "outputs": [
        {
          "data": {
            "text/plain": [
              "[6108, 6241, 6377, 6166, 6577, 6275, 6038, 6871, 6206, 6489, 6594, 5470, 3184]"
            ]
          },
          "execution_count": 12,
          "metadata": {},
          "output_type": "execute_result"
        }
      ],
      "source": [
        "token_counts = []\n",
        "for chunk in chunks:\n",
        "  response = model.count_tokens(chunk,\n",
        "                                request_options = {'timeout': 600})\n",
        "  token_count = response.total_tokens\n",
        "  token_counts.append(token_count)\n",
        "token_counts"
      ]
    },
    {
      "cell_type": "markdown",
      "metadata": {
        "id": "RqNZ-JameFOx"
      },
      "source": [
        "Despite using estimates, this split minimizes the calls necessary to translate the book well, and most chunks are of similar token counts to each other."
      ]
    },
    {
      "cell_type": "markdown",
      "metadata": {
        "id": "B3GFZw6viwO7"
      },
      "source": [
        "## Translation\n",
        "\n",
        "Your book is ready for translations! The selected book has been divided into 13 larger chunks."
      ]
    },
    {
      "cell_type": "markdown",
      "metadata": {
        "id": "BkbGQUWsj28i"
      },
      "source": [
        "### Prompt\n",
        "\n",
        "Specify the original language of your book and the language you would like it to be translated into.\n"
      ]
    },
    {
      "cell_type": "code",
      "execution_count": 13,
      "metadata": {
        "id": "ZkA6L5URdFl9"
      },
      "outputs": [],
      "source": [
        "def translations(text,\n",
        "                 inputLanguage='Polish',\n",
        "                 targetLanguage='English'):\n",
        "\n",
        "    translation_prompt = f\"\"\"\n",
        "    As a professional book translator,\n",
        "    translate the following book from {inputLanguage} into {targetLanguage}.\n",
        "\n",
        "    Book to Translate:\n",
        "    {text}\n",
        "\n",
        "    \"\"\"\n",
        "\n",
        "    return translation_prompt"
      ]
    },
    {
      "cell_type": "markdown",
      "metadata": {
        "id": "1RhRUwcgkZRe"
      },
      "source": [
        "### Translate chunks\n",
        "\n",
        "The translation time depends on the amount of text being processed. Our selected book was 318 KB and the entire translation took 20 minutes.\n",
        "\n",
        "Please note that larger texts may take several hours to complete."
      ]
    },
    {
      "cell_type": "code",
      "execution_count": 14,
      "metadata": {
        "id": "2jiU5EJ02-KT"
      },
      "outputs": [
        {
          "name": "stderr",
          "output_type": "stream",
          "text": [
            " 23%|██▎       | 3/13 [01:58<06:36, 39.65s/it]"
          ]
        },
        {
          "name": "stdout",
          "output_type": "stream",
          "text": [
            "\n",
            "Chunk was not included in translation due to possible sensitive content. Text: -- Sługami Dyabła mogą być ludzie z krwi i kości. Należy\n",
            "przedewszystkiem rozstrzygnąć dwa zagadnienia: popierwsze, czy zaszła\n",
            "zbrodnia? Powtóre: w jaki sposób ją spełniono? Jeżeli doktor Mortimer\n",
            "nie jest w błędzie, jeśli okaże się, że mamy do czynienia\n",
            "z nadprzyrodzonemi siłami, w takim razie dochodzenia sądowe są\n",
            "bezużyteczne. Ale musimy wyczerpać wszelkie inne hypotezy, zanim\n",
            "dojdziemy do tego wniosku. Możebyś zamknął okno. Znajduję, że\n",
            "skoncentrowana atmosfera pomaga do skupienia myśli. Czy zastanawiałeś\n",
            "się w ciągu dnia nad tą sprawą?\n",
            "\n",
            "-- Myślałem o niej dużo. Jest istotnie dziwna.\n",
            "\n",
            "-- Są w niej punkty charakterystyczne. I tak, naprzykład, zmiana\n",
            "śladów.\n",
            "\n",
            "-- Doktor Mortimer wyjaśnił to w ten sposób, że sir Karol szedł potem\n",
            "na palcach.\n",
            "\n",
            "-- Doktor powtórzył tylko to, co jakiś dudek powiedział na śledztwie.\n",
            "Pocóżby sir Baskerville miał chodzić na palcach? Nie, on poprostu\n",
            "biegł, _uciekał_, aż wreszcie padł twarzą na ziemię.\n",
            "\n",
            "-- Przed czemże uciekał?\n",
            "\n",
            "-- To właśnie należy wyświetlić! Są poszlaki, że już był\n",
            "wylękniony, zanim począł uciekać.\n",
            "\n",
            "-- Skąd wiesz?\n",
            "\n",
            "-- Przypuszczam, że nastraszyło go coś, co ujrzał na łące. Ten widok\n",
            "pozbawił go przytomności, bo inaczej nie byłby uciekał w stronę\n",
            "przeciwną, zamiast biedz ku pałacowi. Jeżeli świadectwo cygana jest\n",
            "wiarogodne, -- biegnąc, wołał o pomoc, a pędził tam, skąd pomoc\n",
            "w żaden sposób nadejść nie mogła. Dalej: na kogo czekał owej nocy\n",
            "i dlaczego czekał w Alei Wiązów, zamiast w domu?\n",
            "\n",
            "-- Wiec sądzisz, że czekał na kogoś?\n",
            "\n",
            "-- Był niemłody, chory. Zapewne mógł był wyjść na spacer, ale nie\n",
            "w taką noc, ciemną, wilgotną. Czemu stał przez pięć do dziesięciu\n",
            "minut przy furtce, jak to wywnioskował doktor Mortimer z popiołu\n",
            "cygara?\n",
            "\n",
            "-- Wszak sir Karol wychodził co wieczór?\n",
            "\n",
            "-- Wątpię, czy co wieczór po dziesięć minut stawał przy furtce. Wiemy\n",
            "nawet, że zwykł był unikać łąki. Przeciwnie, owego wieczora czekał\n",
            "przy niej. Było to w wilię jego odjazdu do Londynu. Rzecz zaczyna się\n",
            "rozjaśniać. Mój drogi, podaj mi skrzypce. Mówmy o czem innem. Dajmy\n",
            "pokój tej sprawie aż do przybycia doktora Mortimer i sir Henryka\n",
            "Baskerville.\n",
            "\n",
            "\n",
            "\n",
            "\n",
            "IV\n",
            "\n",
            "Sir Henryk Baskerville.\n",
            "\n",
            "\n",
            "Zjedliśmy wcześnie śniadanie. Holmes czekał na zapowiedzianą wizytę.\n",
            "Nasi klienci stawili się punktualnie. Biła właśnie dziesiąta, gdy do\n",
            "pokoju bawialnego wszedł doktor Mortimer, a za nim młody baronet.\n",
            "\n",
            "Ten ostatni był niewielkiego wzrostu, silnie zbudowany, miał lat ze\n",
            "trzydzieści, włosy i oczy ciemne; gęste czarne brwi nadawały jego\n",
            "twarzy wyraz stanowczy, a nawet srogi. Z całej jego postawy\n",
            "i ogorzałego oblicza było znać, że dużo przebywał na świeżem\n",
            "powietrzu; wyglądał na skończonego gentlemana.\n",
            "\n",
            "-- Oto sir Henryk Baskerville -- prezentował doktor Mortimer.\n",
            "\n",
            "-- Tak, jestem tu we własnej osobie, a co dziwniejsza, panie Holmes,\n",
            "że gdyby mój przyjaciel nie zaproponował mi tej wizyty, sam przybyłbym\n",
            "do pana.\n",
            "\n",
            "-- Niechże pan siada. Czyżby od pańskiego przybycia do Londynu\n",
            "zdarzyłoby się panu coś niezwykłego?\n",
            "\n",
            "-- Zażartowano ze mnie. Dziś rano dostałem ten list.\n",
            "\n",
            "Sir Henryk położył na stole kopertę; wszyscy nachyliliśmy się nad\n",
            "nią. Była to zwykła, szara koperta; adres: _Sir Henryk Baskerville_,\n",
            "_Northumberland Hotel_ -- wypisany był drukiem, stempel Charing Cross\n",
            "i data na kopercie z poprzedniego wieczora.\n",
            "\n",
            "-- Kto wiedział, że pan zatrzyma się w Northumberland Hotel? -- spytał\n",
            "Holmes, spoglądając bystro na swego klienta.\n",
            "\n",
            "-- Nikt nie mógł wiedzieć. Zdecydowałem się dopiero po spotkaniu\n",
            "doktora Mortimer.\n",
            "\n",
            "-- Doktor Mortimer mieszkał już tam zapewne?\n",
            "\n",
            "-- Bynajmniej. Zatrzymałem się u znajomego -- odparł doktor. -- Nie\n",
            "było żadnych poszlak, wskazujących, że chcemy stanąć w tym właśnie\n",
            "hotelu.\n",
            "\n",
            "-- Hm! ktoś widocznie śledzi pańskie kroki.\n",
            "\n",
            "Holmes wyjął z koperty papier dużego formatu, rozłożył go na stole.\n",
            "Na środku arkusza było jedno zdanie. Brzmiało w te słowa:\n",
            "\n",
            "    _Jeżeli dbasz o życie, strzeż się trzęsawiska_\n",
            "\n",
            "Tylko jedno słowo: „trzęsawiska” było wypisane drukowanemi literami,\n",
            "atramentem.[A]\n",
            "\n",
            "-- A teraz, panie Holmes -- rzekł sir Henryk Baskerville -- może mi pan\n",
            "wytłómaczy, co znaczą te słowa i kto interesuje się moją osobą?\n",
            "\n",
            "-- Cóż pan o tem myślisz, doktorze Mortimer? Musisz chyba przyznać, że\n",
            "niema w tem nic nadnaturalnego.\n",
            "\n",
            "-- Nie, lecz te słowa mogą być skreślone przez kogoś, kto wierzy\n",
            "w nadprzyrodzoną siłę, rządząca tą sprawą.\n",
            "\n",
            "-- Jaką sprawą? -- podchwycił sir Henryk Baskerville. -- Widzę, że\n",
            "panowie jesteście lepiej odemnie powiadomieni o moich interesach.\n",
            "\n",
            "-- Zanim stąd wyjdziesz, sir Henryku, będziesz wiedział to, co i my --\n",
            "oświadczył Sherlock Holmes. -- Tymczasem zajmiemy się tym ciekawym\n",
            "dokumentem. List został naklejony i wrzucony do skrzynki wczoraj\n",
            "wieczorem. Czy masz wczorajszy _Times_, Watson?\n",
            "\n",
            "-- Leży tutaj.\n",
            "\n",
            "-- Proszę cię o niego. Chcę zobaczyć wewnętrzną kolumnę z artykułem\n",
            "wstępnym.\n",
            "\n",
            "Przebiegł okiem wzdłuż szpalty.\n",
            "\n",
            "-- Artykuł wstępny traktuje o wolnym handlu. Pozwólcie mi odczytać\n",
            "z niego jeden ustęp:\n",
            "\n",
            "„Nie należy się łudzić, że taryfa protekcyjna osłoni nasz\n",
            "przemysł. Takie prawo zmniejszy tylko obieg kapitałów i sprawi,\n",
            "że życie będzie droższem w Anglii. Jeżeli więc dbasz o swój\n",
            "dobrobyt, szanowny obywatelu, strzeż się głosować za rzecznikami\n",
            "tej idei”.\n",
            "\n",
            "-- Cóż o tem myślisz, Watson? -- zawołał Holmes, zacierając ręce\n",
            "z radości. -- Czy nie znajdujesz, że wyrażone poglądy są bardzo\n",
            "głębokie?\n",
            "\n",
            "Doktor Mortimer spojrzał na Holmesa z zaciekawieniem; sir Henryk był\n",
            "widocznie zdziwiony.\n",
            "\n",
            "-- Nie znam się na taryfach -- rzekł -- ale nie widzę, aby te słowa\n",
            "miały nas wprowadzić na trop autora listu.\n",
            "\n",
            "-- I owszem, Watson zna mój system. Czy zrozumiałeś znaczenie tego\n",
            "zdania dla naszej sprawy?\n",
            "\n",
            "-- Przyznaję, że nie widzę żadnej łączności pomiędzy temi słowami\n",
            "a przestrogą, zawartą w liście anonimowym.\n",
            "\n",
            "-- A jednak, kochany Watson, łączność jest tak ścisła, że jedno\n",
            "wypływa z drugiego. _Życie_, _dbasz_, _strzeż się_ -- czyż nie widzisz,\n",
            "skąd są wzięte owe słowa?\n",
            "\n",
            "-- Masz pan słuszność! -- zawołał sir Henryk.\n",
            "\n",
            "-- Wszelkie wątpliwości rozprasza fakt, że słowa zostały wycięte\n",
            "w całości, nie zaś pojedynczemi literami, a nawet widzimy dwa słowa\n",
            "wycięte razem: _dbasz o_...\n",
            "\n",
            "-- Doprawdy, panie Holmes, to przechodzi wszelkie pojęcie! -- rzekł\n",
            "doktor Mortimer, patrząc na mego przyjaciela ze zdumieniem. -- Nie\n",
            "dość, że pan poznałeś odrazu, iż słowa zostały wycięte z dziennika,\n",
            "ale domyśliłeś się, z którego. Powiedz-że nam, jakim sposobem?\n",
            "\n",
            "-- Sądzę, że potrafiłbyś, doktorze, odróżnić czaszkę Murzyna od\n",
            "czaszki Eskimosa?\n",
            "\n",
            "-- Naturalnie. Badanie czaszek -- to moja specyalność.\n",
            "\n",
            "-- Dla moich oczu różnica pomiędzy _burgosowemi_ czcionkami artykułów\n",
            "wstępnych _Timesa_ a _petitowym_ drukiem pism wieczornych jest tak\n",
            "wielka, jak dla pana pomiędzy czaszką Eskimosa a Murzyna. Badanie\n",
            "druków jest elementarzem wiedzy _detektywa_.\n",
            "\n",
            "-- O ile można przypuszczać, te słowa zostały wycięte scyzorykiem.\n",
            "\n",
            "-- Nie; nożyczkami i to bardzo ostremi i krótkiemi. Po wycięciu\n",
            "naklejono je gumą na papierze.\n",
            "\n",
            "-- Ale dlaczego słowo: _trzęsawisko_ zostało wypisane ręcznie?\n",
            "\n",
            "-- Bo niema go w artykule.\n",
            "\n",
            "-- Czy coś jeszcze zwróciło pańską uwagę, panie Holmes? -- pytał sir\n",
            "Henryk.\n",
            "\n",
            "-- Dostrzegam parę wskazówek, choć starano się zatrzeć wszelkie\n",
            "ślady. Adres wypisany literami drukowanemi ręką niewprawną, ale\n",
            "skądinąd _Times_ jest czytywany przez ludzi inteligentnych.\n",
            "Wyprowadzam stąd wniosek, że autorem anonimu jest człowiek\n",
            "wykształcony, który chce uchodzić za nieuka; sam fakt, że ukrywa\n",
            "swe pismo, dowodzi, że pan znasz, lub że mógłbyś poznać to pismo.\n",
            "Dalej: słowa nie są naklejone w prostej linii; i tak, naprzykład,\n",
            "_życie_ nie jest na swojem miejscu właściwem. To świadczy\n",
            "o niedbałości lub o wzruszeniu. Przypuszczam raczej to ostatnie.\n",
            "Korespondent śpieszył się widocznie... ale dlaczego? Wiedział,\n",
            "że list, wrzucony wieczorem, choćby najpóźniej, dojdzie rąk sir\n",
            "Henryka nazajutrz przed jego wyjściem z hotelu. Czyżby ów nieznajomy\n",
            "bał się, że mu przerwą robotę?\n",
            "\n",
            "-- Wkraczamy teraz w dziedzinę domysłów -- wtrącił doktor Mortimer.\n",
            "\n",
            "-- Powiedz pan raczej, że na pole prawdopodobieństw. Może to pan\n",
            "nazwać domysłem, ale ja jestem pewien, że adres został skreślony\n",
            "w hotelu.\n",
            "\n",
            "-- Skąd pan to wie?\n",
            "\n",
            "-- Jeżeli panowie przyjrzycie mu się dokładnie, to zmiarkujecie, że\n",
            "piszący miał kłopot z piórem i atramentem. Pióro pryskało dwa razy\n",
            "w jednem słowie, i wyschło trzy razy przy wypisywaniu tak krótkiego\n",
            "adresu, co dowodzi, że było bardzo mało atramentu w kałamarzu. Otóż\n",
            "w domu prywatnym rzadko się zdarza, aby atrament wysechł i żeby pióro\n",
            "było w tak złym stanie. Ale wiadomo, czem są pióra i kałamarze\n",
            "hotelowe. Sądzę, że badając kałamarze w hotelach w pobliżu Charing\n",
            "Cross, znajdziemy wycięty numer _Timesa_ i zdołamy odszukać osobę,\n",
            "która ten list przesłała.\n",
            "\n",
            "Obejrzał starannie papier, na którym były przyklejone słowa, ale nie\n",
            "mógł dojrzeć nic osobliwego.\n",
            "\n",
            "-- Czy zdarzyło się panu co jeszcze od chwili, gdyś pan przybył do\n",
            "Londynu? -- spytał sir Henryka.\n",
            "\n",
            "-- Nic zgoła.\n",
            "\n",
            "-- Czy nie zauważyłeś pan, że pana śledzą?\n",
            "\n",
            "-- Nie. Któżby miał ochotę mnie śledzić? Nikt mnie tu nie zna.\n",
            "\n",
            "-- Czy nie miał pan jakiej niespodzianki?\n",
            "\n",
            "-- Żadnej. Chyba tę tylko, że mi zginął jeden but.\n",
            "\n",
            "-- Zginął panu but? A to w jaki sposób?\n",
            "\n",
            "-- Znajdziesz go pan zapewne po powrocie do hotelu. Nie warto trudzić\n",
            "pana Holmes takiemi drobiazgami -- przerwał mu doktor Mortimer.\n",
            "\n",
            "-- Przepraszam; to nie jest drobiazg -- zaprzeczył detektyw. -- Jakże\n",
            "to było?\n",
            "\n",
            "-- Wystawiłem na korytarz oba buty do czyszczenia. Nazajutrz był tylko\n",
            "jeden. Posługacz nie wiedział, co się stało z drugim. Kupiłem te buty\n",
            "wczoraj i nie miałem ich wcale na nogach.\n",
            "\n",
            "-- Jeżeli ich pan nie nosiłeś, czemu je dawałeś do czyszczenia?\n",
            "\n",
            "-- Buty przechodziły przez tyle rąk w sklepie, że potrzebują\n",
            "czyszczenia.\n",
            "\n",
            "-- A zatem wczoraj, po przyjeździe do Londynu, robiłeś pan sprawunki?\n",
            "\n",
            "-- Robiłem ich dużo. Towarzyszył mi doktor Mortimer. Bo to muszę\n",
            "panu wyznać, że, pędząc życie swobodne, na świeżem powietrzu,\n",
            "zaniedbałem się trochę, a trzeba było przygotować się do odegrania\n",
            "roli pana licznych włości. Pomiędzy innemi kupiłem te żółte buty,\n",
            "zapłaciłem za nie sześć szylingów. Ale ukradli mi jeden, zanim je\n",
            "włożyłem na nogi.\n",
            "\n",
            "-- To dziwne. Na co może się zdać jeden but? -- zastanawiał się\n",
            "Sherlock Holmes.\n",
            "\n",
            "-- A teraz, panowie -- rzekł baronet -- czekam na spełnienie\n",
            "obietnicy. Chciałbym się dowiedzieć o tem, co ukrywaliście przedemną.\n",
            "\n",
            "-- Pańskie żądanie jest słuszne -- odparł Holmes. -- Doktorze\n",
            "Mortimer, sądzę, że masz obowiązek opowiedzieć sir Henrykowi to,\n",
            "coś nam opowiadał.\n",
            "\n",
            "Otrzymawszy taką zachętę, lekarz wyjął papiery z kieszeni\n",
            "i przedstawił całą sprawę nowemu baronetowi.\n",
            "\n",
            "Sir Henryk Baskerville słuchał uważnie, przerywając od czasu do czasu\n",
            "okrzykiem zdziwienia.\n",
            "\n",
            "-- Ha! widzę, żem otrzymał spadek, do którego przywiązana jest jakaś\n",
            "zemsta -- rzekł wreszcie, gdy opowiadanie dobiegło końca. -- Ma się\n",
            "rozumieć, słyszałem o owym psie od czasów niepamiętnych, jeszcze z ust\n",
            "moich nianiek. Dotychczas jednak nie przywiązywałem wagi do tej\n",
            "legendy. Teraz widzę, że śmierci mojego stryja towarzyszyły istotnie\n",
            "okoliczności tajemnicze. Panowie sami jeszcze nie wiecie, czy ta\n",
            "sprawa wchodzi w zakres działania policyantów, czy też pastorów.\n",
            "A w dodatku dostaję ów list zagadkowy...\n",
            "\n",
            "-- Widać z niego, że ktoś śledzi łąkę i przyległe do niej pustkowia\n",
            "i trzęsawiska -- rzekł doktor Mortimer.\n",
            "\n",
            "-- I że ktoś jest dla pana źle usposobionym, bo inaczej druga osoba\n",
            "nie miałaby powodu ostrzegać go o niebezpieczeństwie.\n",
            "\n",
            "-- A może, dla wiadomych im przyczyn, chcą oddalić stąd sir Henryka.\n",
            "\n",
            "-- I to jest możliwem, i wdzięczny jestem panu, doktorze Mortimer, że\n",
            "mnie tę myśl poddałeś. Obecnie chodzi o to, czy sir Henryk ma, czy też\n",
            "nie ma wyruszyć do Baskerville Hall?\n",
            "\n",
            "-- Czemużby nie miał?\n",
            "\n",
            "-- Zdaje się, że panu tam grozi niebezpieczeństwo.\n",
            "\n",
            "-- Czy mówisz pan o niebezpieczeństwie ze strony ludzi, czy też ze\n",
            "strony czworonożnego wroga Baskervillów?\n",
            "\n",
            "-- Nasze badania to wykryją.\n",
            "\n",
            "-- Bądź co bądź, jestem zdecydowany. Niema w piekle takiego szatana,\n",
            "ani na ziemi takiego człowieka, któryby mi przeszkodził zamieszkać\n",
            "w domu moich przodków.\n",
            "\n",
            "Przy tych słowach sir Henryk brwi zmarszczył, z oczu posypały mu się\n",
            "iskry. Widocznie śmiały duch Baskervillów nie wygasł w ostatnim\n",
            "potomku rodu.\n",
            "\n",
            "-- Teraz -- mówił dalej -- muszę zastanowić się nad tem, com się\n",
            "dowiedział. Chciałbym mieć godzinkę czasu do namysłu. Jest wpół do\n",
            "pierwszej. Wracam do hotelu. Możebyście panowie przyszli tam do mnie\n",
            "na śniadanie o drugiej? Wówczas będę mógł powiedzieć, co o tem\n",
            "wszystkiem myślę.\n",
            "\n",
            "-- Dobrze. Stawimy się na oznaczoną godzinę.\n",
            "\n",
            "-- A zatem dowidzenia.\n",
            "\n",
            "Po wyjściu naszych gości, Holmes zerwał się i zawołał:\n",
            "\n",
            "-- Watson, bierz kapelusz i laskę. Niema chwili czasu do stracenia.\n",
            "\n",
            "Wybiegł z pokoju w szlafroku; w minutę potem ukazał się w surducie.\n",
            "Zbiegliśmy ze schodów. Na ulicy zobaczyliśmy sir Henryka i doktora\n",
            "Mortimer o paręset metrów przed sobą. Szli w kierunku Oxford street.\n",
            "\n",
            "-- Czy mam ich dogonić i zatrzymać? -- spytałem.\n",
            "\n",
            "-- Broń Boże! -- odparł. -- Twoje towarzystwo wystarcza mi\n",
            "najzupełniej. Ci panowie dobrze robią, że idą się przejść. Dzień\n",
            "ładny.\n",
            "\n",
            "Szedł krokiem przyśpieszonym, aż dopóki przestrzeń pomiędzy nami\n",
            "a tamtymi nie zmniejszyła się o połowę; następnie, trzymając się\n",
            "wciąż o sto łokci od nich, szedł za nimi przez całą Oxford Street\n",
            "aż do Regent Street. Nasi przyjaciele zatrzymali się raz przed\n",
            "wystawą sklepową. Holmes stanął także. Po chwili wydał cichy okrzyk\n",
            "zadowolnienia. Spojrzałem w kierunku jego wzroku i zobaczyłem, że\n",
            "dorożka z siedzącym w niej mężczyzną, która zatrzymała się po\n",
            "drugiej stronie ulicy, jedzie znowu dalej.\n",
            "\n",
            "-- Chodźmy, Watson. Trzeba mu się przyjrzeć.\n",
            "\n",
            "Dostrzegłem czarną, puszystą brodę i oczy, świdrujące nas po przez\n",
            "szybę dorożki. W tejże chwili podniosło się okienko w pudle,\n",
            "nieznajomy rzucił parę słów woźnicy i dorożka pomknęła szybko\n",
            "w stronę Regent Street.\n",
            "\n",
            "Holmes obejrzał się za drugą, ale nie było żadnej niezajętej.\n",
            "Popędził pieszo, ale dorożka jechała tak szybko, że niepodobna\n",
            "było jej dogonić. Niebawem zniknęła nam z oczu.\n",
            "\n",
            "-- Tam do kata! -- zaklął mój przyjaciel. -- Tośmy się urządzili! Nie\n",
            "do darowania!...\n",
            "\n",
            "-- Kto to był? -- spytałem.\n",
            "\n",
            "-- Nie mam pojęcia.\n",
            "\n",
            "-- Zapewne szpieg.\n",
            "\n",
            "-- Z tego, com słyszał od Baskervilla, przypuszczam, że od chwili jego\n",
            "przybycia do Londynu ktoś go śledzi, bo inaczej, skądby wiedziano tak\n",
            "szybko, że stanął w hotelu Northumberland? A jeżeli go śledzili\n",
            "w pierwszym dniu pobytu, niewątpliwie będą śledzić dalej.\n",
            "Zauważyłeś zapewne, że podczas gdy doktor Mortimer czytał,\n",
            "wyglądałem dwukrotnie przez okno.\n",
            "\n",
            "-- Spostrzegłem to.\n",
            "\n",
            "-- Otóż patrzałem, czy nikt nie stoi po przeciwnej stronie ulicy; ale\n",
            "nie było nikogo. Mam do czynienia z przebiegłym lisem, a choć\n",
            "dotychczas nie mogę zmiarkować czy ów nieznajomy pragnie zguby sir\n",
            "Henryka, czy też chce go przed niebezpieczeństwem uchronić, czuję, że\n",
            "trzeba się z nim liczyć. Po wyjściu sir Baskerville'a wybiegłem co\n",
            "tchu, aby zobaczyć jego cień. Ale ten człowiek wsiadł do dorożki,\n",
            "sądząc, że w ten sposób nie zwróci na siebie uwagi.\n",
            "\n",
            "-- Oddaje go to na łaskę i niełaskę dorożkarza. Szkoda, że nie\n",
            "dostrzegliśmy numeru -- zauważył Watson.\n",
            "\n",
            "-- Mój drogi, czyż sądzisz, że mogłem przeoczyć tak ważny\n",
            "szczegół? Zapamiętałem numer dorożki... 2704. Ale tymczasem\n",
            "na nic się to nie zda. Zrobiłem wielkie głupstwo... Zamiast\n",
            "śledzić dorożkę zprzodu, trzeba było zawrócić się i wsiąść do\n",
            "pierwszej lepszej, znajdującej się ztyłu. W ten sposób moglibyśmy\n",
            "jechać za nią, albo kazać się zawieźć wprost do Northumberland\n",
            "Hotel i tam czekać. Zbytnia gorliwość była wielkim błędem. Nasz\n",
            "przeciwnik nie omieszkał z niego skorzystać.\n",
            "\n",
            "Szliśmy powoli przez Regent Street. Doktor Mortimer i jego towarzysz\n",
            "oddawna już zniknęli nam z oczu.\n",
            "\n",
            "-- Nie warto ich śledzić -- rzekł Holmes. -- Tamten już umknął\n",
            "i nie pojawi się zapewne. Trzeba korzystać z tych nici, które\n",
            "trzymamy w ręku. Czy zapamiętałeś twarz nieznajomego?\n",
            "\n",
            "-- Zapamiętałem tylko brodę.\n",
            "\n",
            "-- I ja także; wyprowadzam stąd wniosek, że była przyprawiona. Wejdźmy\n",
            "tutaj.\n",
            "\n",
            "Weszliśmy do hotelu. Zarządzający przyjął Holmesa z wielką\n",
            "radością.\n",
            "\n",
            "-- Jak widzę, pamiętasz, Wilson, drobną przysługę, którą miałem\n",
            "sposobność ci wyświadczyć -- rzekł mój przyjaciel.\n",
            "\n",
            "-- Nie zapomnę jej nigdy. Uratowałeś mi pan honor i życie.\n",
            "\n",
            "-- Przesadzasz, mój drogi. Wszak macie tu posługacza nazwiskiem\n",
            "Cartridge, który wykazał dużo sprytu podczas śledztwa.\n",
            "\n",
            "-- Tak; jest jeszcze u nas.\n",
            "\n",
            "-- Czy mógłbyś zadzwonić na niego? Dziękuję. A chciałbym też\n",
            "zmienić pięciofuntowy banknot.\n",
            "\n",
            "W sieni ukazał się chłopak czternastoletni, zwinny, wesoły\n",
            "i rozgarnięty. Stanął przed detektywem w postawie pełnej\n",
            "uszanowania.\n",
            "\n",
            "-- Proszę o spis hotelów. Dziękuję. Patrz, Cartridge: oto nazwiska\n",
            "dwudziestu trzech hotelów w pobliżu Charing Cross. Widzisz?\n",
            "\n",
            "-- Tak, panie.\n",
            "\n",
            "-- Zwiedzisz każdy z nich po kolei.\n",
            "\n",
            "-- Dobrze, panie.\n",
            "\n",
            "-- Zaczniesz od dania szylinga portyerowi. Oto masz dwadzieścia trzy\n",
            "szylingi.\n",
            "\n",
            "-- Dobrze, panie.\n",
            "\n",
            "-- Będziesz mówił, że potrzebne ci są gazety wczorajsze, że szukasz\n",
            "ważnego ogłoszenia, które miało być umieszczone w jednej z nich, ale\n",
            "nie wiesz -- w której.\n",
            "\n",
            "-- Rozumiem, panie.\n",
            "\n",
            "-- W istocie będziesz szukał numeru _Timesa_, w którym kilka słów\n",
            "zostało wyciętych nożyczkami. Oto jest jeden egzemplarz. Na tej\n",
            "stronicy. Czy poznasz ją?\n",
            "\n",
            "-- Poznam.\n",
            "\n",
            "-- Za każdym razem portyer, stojący we drzwiach, wezwie portyera,\n",
            "siedzącego w sieni -- i temu dasz po szylingu. Oto dwadzieścia trzy\n",
            "szylingi. Zapewne na 23 razy -- 20 razy usłyszysz, że spalono\n",
            "wczorajsze gazety; w trzech hotelach dadzą ci całą plikę; będziesz\n",
            "wśród niej szukał tego numeru _Timesa_. Prawdopodobnie go nie\n",
            "znajdziesz. Oto dziesięć szylingów na nieprzewidziane wydatki. Wypraw\n",
            "do mnie depeszę przed wieczorem na Baker Street. A teraz, Watson,\n",
            "musimy dowiedzieć się o dorożkarza Nr. 2104, potem wstąpimy do galeryi\n",
            "obrazów przy Bond Street, dla zapełnienia sobie czasu do godziny\n",
            "drugiej.\n",
            "\n",
            "\n",
            "\n",
            "\n",
            "V.\n",
            "\n",
            "Trzy nici urwane.\n",
            "\n",
            "\n",
            "Sherlock miał niezwykły dar zwracania dowolnie swoich myśli\n",
            "w jakimbądź kierunku. Przez półtory godziny zapomniał o tej dziwnej\n",
            "sprawie; pochłonęły go obrazy nowoczesnych mistrzów belgijskich,\n",
            "mówił tylko o sztuce, na którą miał poglądy bardzo oryginalne.\n",
            "\n",
            "O naznaczonej godzinie stanęliśmy przed Northumberland Hotel.\n",
            "\n",
            "-- Sir Henryk Baskerville czeka panów na pierwszem piętrze -- rzekł\n",
            "portyer.\n",
            "\n",
            "-- Czy mogę zajrzeć do listy waszych gości? -- spytał Holmes.\n",
            "\n",
            "-- I owszem.\n",
            "\n",
            "Księga wykazywała, że dwie osoby stanęły w hotelu, po zatrzymaniu się\n",
            "tam sir Henryka: niejaki Teofil Johnson z rodziną, przybyły\n",
            "z Newcastle i pani Oldmore ze służącą, z High Lodge, Alton.\n",
            "\n",
            "-- Zdaje mi się, że znam tego Johnsona -- rzekł Holmes do portyera. --\n",
            "Wszak to adwokat: siwy, utyka na nogę.\n",
            "\n",
            "-- Przeciwnie: ten pan Johnson jest właścicielem kopalni węgla, bardzo\n",
            "ruchliwy, w wieku pana.\n",
            "\n",
            "-- Jesteś w błędzie co do jego fachu.\n",
            "\n",
            "-- Bynajmniej. Znamy go od lat kilkunastu; zawsze do nas zajeżdża.\n",
            "\n",
            "-- Ha! w takim razie, ja się pomyliłem. Pani Oldmore?... I to nazwisko\n",
            "jest mi znane. Daruj mi ciekawość, ale chciałbym wiedzieć, czy to moja\n",
            "znajoma.\n",
            "\n",
            "-- Jest to osoba niemłoda, bezwładna. Jej mąż był niegdyś merem\n",
            "w Gloucester. Ona zawsze do nas zajeżdża.\n",
            "\n",
            "-- Dziękuję za informacye. Widzę, że to kto inny. Nie znam tej pani...\n",
            "\n",
            "Gdyśmy szli na górę, mój przyjaciel szepnął:\n",
            "\n",
            "-- Wiemy już, że osoba, która interesuje się losem sir Henryka, nie\n",
            "stanęła w tym hotelu. Choć go śledzi, jednak boi się być śledzoną.\n",
            "Jest to fakt bardzo znamienny. Ale... cóż to się stało?...\n",
            "\n",
            "Gdyśmy weszli na pierwsze piętro, naprzeciw nam wybiegł sir Henryk,\n",
            "widocznie wzburzony. W ręku trzymał stary but.\n",
            "\n",
            "-- Drwią sobie ze mnie w tym hotelu! -- wołał -- ale nauczę ich rozumu!\n",
            "Jeżeli but się nie znajdzie, popamiętają mnie tutaj!\n",
            "\n",
            "-- Szuka pan wciąż buta?\n"
          ]
        },
        {
          "name": "stderr",
          "output_type": "stream",
          "text": [
            "100%|██████████| 13/13 [07:45<00:00, 35.83s/it]\n"
          ]
        }
      ],
      "source": [
        "results = []\n",
        "index = 0\n",
        "translation = None\n",
        "\n",
        "for chunk in tqdm(chunks):\n",
        "    try:\n",
        "        translation = generate_output(translations(chunk))\n",
        "        results.append(translation)\n",
        "    except Exception as ex:\n",
        "        print(f\"\\nChunk was not included in translation due to possible sensitive content. Text: {chunk}\")\n",
        "\n",
        "    index += 1"
      ]
    },
    {
      "cell_type": "markdown",
      "metadata": {
        "id": "YL96QOTLP6nh"
      },
      "source": [
        "All done, now you can print the chunk before and after translation to see the results.\n",
        "\n",
        "You can see, that translation effectively maintains the narrative's novel quality, proper grammar and sentence structure.\n",
        "\n",
        "Next step will be joining chunks together and saving the translated book."
      ]
    },
    {
      "cell_type": "code",
      "execution_count": 15,
      "metadata": {
        "id": "FBM8YeghZUaQ"
      },
      "outputs": [
        {
          "data": {
            "text/markdown": "Doktor Mortimer skończył czytać tę niezwykłą opowieść, nasunął na\noczy okulary i spojrzał na pana Sherlocka Holmes. Ten ziewnął\ni rzucił papierosa w ogień.\n\n-- No i cóż? -- rzekł.\n\n-- Czy historya ta nie jest interesującą?\n\n-- Zapewne, dla zbieracza starych legend i baśni.\n\nDoktor Mortimer wyjął z kieszeni gazetę.\n\n-- A teraz, panie Holmes -- rzekł -- pokażę panu coś aktualniejszego.\nOto dziennik „Devon County Chronicle” z dnia 14-go Maja roku\nbieżącego. Jest w nim opis faktów, odnoszących się do śmierci sir\nKarola Baskerville, która zdarzyła się na kilka dni przed ową datą.\n\nMój przyjaciel nachylił się i począł słuchać uważniej. Doktor\nMortimer czytał:\n\n„Niedawna i nagła śmierć sir Karola Baskerville, kandydata liberalnego\nz hrabstwa Devon, przejęła całą naszą okolicę zdumieniem i trwogą.\nJakkolwiek sir Karol Baskerville mieszkał w Baskerville Hall od\nniedawna, lecz jego uprzejmość, hojność i szlachetność, zjednały mu\nszacunek tych wszystkich, którzy mieli z nim do czynienia.\nW dzisiejszej epoce parweniuszów miło jest widzieć potomka\nstarożytnego a podupadłego rodu, odzyskującego fortunę swych\nprzodków i przywracającego świetność staremu nazwisku.\n\n„Sir Karol, jak wiadomo, zyskał duży majątek na spekulacyach w Afryce\npołudniowej, a będąc z natury przezornym, nie kusił dalej szczęścia,\nktóre mogłoby się odwrócić od niego, jak to czyni z innymi,\ni zrealizowawszy swoją fortunę, powrócił do Anglii.\n\n„Przed dwoma laty zaledwie osiadł w Baskerville Hall; znane są jego\nszerokie plany odnowienia starej siedziby i wprowadzenia ulepszeń\nw gospodarstwie rolnem. Śmierć przeszkodziła ich urzeczywistnieniu.\n\n„Będąc bezdzietnym, pragnął, aby cała okolica korzystała z jego\nfortuny i niejeden z sąsiadów ma ważne powody do opłakiwania jego\nprzedwczesnego zgonu. Donosiliśmy często na tych szpaltach o jego\nhojnych ofiarach na instytucye publiczne.\n\n„Śledztwo nie wyjaśniło dotychczas okoliczności, towarzyszących\nśmierci sir Karola. Krążą tu najdziwaczniejsze legendy, przypisujące\nów nagły zgon działaniu sił nadprzyrodzonych.\n\n„Sir Karol był wdowcem, uważano go powszechnie za dziwaka. Pomimo\ndużej fortuny, miał przyzwyczajenia proste, skromne. Personel służbowy\nw Baskerville Hall składał się z kamerdynera, nazwiskiem Barrymore,\njego żony, kucharki i gospodyni w jednej osobie. Oboje zeznają, że\nzdrowie sir Karola w ostatnich czasach było nietęgie, że rozwijała się\nw nim choroba serca, objawiająca się bladością, brakiem tchu\ni częstemi omdleniami. Doktor Jerzy Mortimer, przyjaciel i domowy lekarz\nnieboszczyka, złożył zeznanie w tym samym duchu.\n\n„Sir Karol Baskerville zwykł był co wieczór, przed pójściem na\nspoczynek, przechadzać się po słynnej alei wiązów przed zamkiem.\nMałżonkowie Barrymore opowiadają, że wieczorom 4-go maja, ich pan\noznajmił im, że nazajutrz wyrusza do Londynu i kazał pakować kuferek.\n\n„Owego wieczoru wyszedł, jak zwykle, na przechadzkę, wśród której\nwypalał cygaro.\n\n„Z tej przechadzki już nie powrócił.\n\n„O dwunastej Barrymore, widząc drzwi frontowe jeszcze otwarte,\nzaniepokoił się, i wziąwszy latarnię, poszedł szukać swego pana.\nW ciągu dnia deszcz padał, więc łatwo było dojrzeć ślady stóp sir\nKarola wzdłuż alei. W połowie drogi jest furtka, prowadząca na łąkę.\n\n„Były ślady, że sir Karol stał przy niej przez czas pewien,\nnastępnie skręcił znowu w aleję. Znaleziono jego trupa na jej końcu.\n\n„Pomiędzy innemi dotychczas nie wyjaśniono jednego faktu, wynikającego\nz zeznań Barrymora, a mianowicie, że ślady kroków jego pana zmieniły\nsię z chwilą, gdy stał przy furtce i że odtąd szedł na palcach.\n\n„Niejaki Murphy, cygan, handlujący końmi, znajdował się wówczas na\nłące, w pewnej odległości od nieboszczyka, ale sam przyznaje, że był\npijany. Powiada, że słyszał krzyki, ale nie może określić, skąd\nwychodziły.\n\n„Na ciele sir Karola nie było śladów przemocy lub gwałtu, a chociaż\nlekarz zeznaje, że wyraz twarzy nieboszczyka był tak zmieniony, że on,\ndoktor Mortimer, w pierwszej chwili poznać go nie mógł, rzeczoznawcy\ntłómaczą to anewryzmem serca, przy którym zachodzą podobne objawy.\n\n„Sekcya wykazała przedawnioną wadę serca, sędzia śledczy potwierdził\nbadanie lekarskie. Pożądanem jest, aby spadkobierca sir Karola mógł\nobjąć jaknajprędzej majątek i prowadzić dalej chlubną działalność,\nprzerwaną tak nagle i tak tragicznie.\n\n„Gdyby prozaiczne orzeczenie sędziego śledczego i rzeczoznawców nie\npołożyło końca romantycznym historyom, krążącym na temat owej\nśmierci, nie łatwo byłoby znaleźć właściciela Baskerville Hall.\n\n„Domniemanym spadkobiercą jest pan Henryk Baskerville, syn młodszego\nbrata sir Karola. Ów młodzieniec przed kilku laty wyruszył do Ameryki.\nZarządzono poszukiwania. Dowie się on zapewne niebawem o zmianie swego\nlosu”.\n\n       *       *       *       *       *\n\nDoktor Mortimer złożył gazetę i wsunął ją do kieszeni, mówiąc:\n\n-- To są fakty, powszechnie znane.\n\n-- Dziękuję panu za zwrócenie mojej uwagi na sprawę istotnie \nciekawą -- rzekł pan Holmes. -- Czytałem o niej, coprawda, w dziennikach, \nale w owym czasie byłem zajęty kameami, które zniknęły z muzeum\nWatykańskiego. Chciałem się przysłużyć Papieżowi i straciłem z oczu\nto, co się jednocześnie działo w Anglii. Ten artykuł, powiadasz pan,\nzawiera fakty, znane powszechnie?\n\n-- Tak.\n\n-- Zechciej więc pan uwiadomić mnie teraz o tem, czego nikt nie wie.\n\nSherlock Holmes oparł się o poręcz fotelu i znowu złożył ręce tak,\naby palce stykały się końcami.\n\n-- Uczynię to -- rzekł doktor Mortimer, zdradzając coraz większe\nwzburzenie. -- Powiem panu to, czego nie mówiłem jeszcze nikomu.\nZataiłem to przed sędzią śledczym z pobudek, które pan zapewne\nzrozumie. Jako człowiek nauki, nie chciałem zdradzać się publicznie,\niż wierzę w przesądy. Dalej, rozumiałem, że gdyby utwierdziła się\nwiara w nadprzyrodzone siły, rządzące w Baskerville Hall, nikt nie\nzechciałby objąć starego zamku w posiadanie. Dla tych dwóch powodów\nnie zeznałem przed sądem wszystkiego, co wiem -- albowiem nie\nzdałoby się to na nic sędziemu śledczemu -- ale z panem będę\nzupełnie szczery.\n\n„Okolica jest mało zaludniona, rezydencye rzadkie, a siedziby\nwłościańskie rozrzucone na znacznej odległości od siebie.\n\n„Widywałem często sir Karola Baskerville, który był spragniony\ntowarzystwa. Oprócz p. Frankland w Lafterhall i naturalisty,\np. Stapleton, w pobliżu niema ludzi inteligentnych. Sir Karol\nbył skryty, małomówny. Zbliżyliśmy się z powodu jego choroby,\nprzytem łączyły nas wspólne upodobania naukowe. Przywiózł wiele\nciekawych wiadomości z Afryki Południowej. Spędziliśmy niejeden\nmiły wieczór na rozprawach o anatomii porównawczej.\n\n„W ciągu ostatnich paru miesięcy spostrzegłem, że system nerwowy sir\nKarola był nadwerężony. Wziął tak dalece ową legendę do serca, że\nchoć co wieczór odbywał spacery, nic go nie mogło skłonić do\nwejścia na łąkę po zachodzie słońca. Prześladowała go wciąż obawa\nupiorów, i pytał mnie nieraz, czym nie widział jakiego dziwacznego\nstworzenia i czym nie słyszał szczekania. Te pytania zadawał mi zawsze\ngłosem drżącym.\n\n„Wraziła mi się w pamięć jedna z moich wizyt u niego przed trzema\ntygodniami. Stał w sieni. Gdym schodził z wózka, spostrzegłem, że\npatrzy po przez moje ramię ze strachem w oczach. Odwróciłem się\ni spostrzegłem jakiś kształt dziwny, podobny do dużego, czarnego\ncielęcia. Przeleciało to po za moim wózkiem.\n\n„Sir Karol był tak wzburzony, że poszedłem szukać tego osobliwego\nzwierzęcia. Ale nigdzie go nie było. Mój pacyent nie mógł się\nuspokoić. Zostałem z nim przez cały wieczór i wtedy, tłómacząc swe\nwzburzenie, opowiedział mi całą tę historyę.\n\n„Wspominam o tym drobnym epizodzie, gdyż nabiera on znaczenia wobec\ntragedyi, która potem nastąpiła; na razie nie przywiązywałem do tego\nwagi i dziwiłem się wzburzeniu sir Karola.\n\n„Miał jechać do Londynu z mojej porady. Wiedziałem, że jest chory\nna serce i że ciągły niepokój źle wpływa na jego zdrowie. Sądziłem,\nże parę miesięcy, spędzonych na rozrywkach, uwolni go od tych mar\ni przywidzeń. Nasz wspólny przyjaciel, pan Stapleton, był tego samego\nzdania. I oto wynikło nieszczęście.\n\n„Zaraz po śmierci sir Karola, kamerdyner Barrymore wyprawił do mnie\ngrooma Perkinsa; przybyłem do Baskerville Hall w godzinę po\nkatastrofie. Zbadałem wszystkie fakty, przytoczone w śledztwie.\nSzedłem śladami, pozostawionemi w Alei Wiązów, obejrzałem miejsce przy\nfurtce, gdzie sir Karol zatrzymał się, i zmiarkowałem, że od owego\nmiejsca szedł na palcach i że nie było śladu innych kroków, oprócz\npóźniejszych, Barrymora. Wreszcie obejrzałem starannie zwłoki, które\npozostały nietknięte do mego przybycia.\n\n„Sir Karol leżał nawznak z rozciągniętemi rękoma, jego twarz była\ntak zmieniona, że zaledwie mogłem ją poznać. Na ciele nie było\nżadnych obrażeń. Ale Barrymore w toku śledztwa uczynił jedno zeznanie\nfałszywe. Powiedział, że nie było żadnych śladów dokoła trupa. Nie\nspostrzegł ich, ale ja dostrzegłem -- zupełnie świeże, w pobliżu.\n\n-- Czy ślady kroków?\n\n-- Tak.\n\n-- Męzkie, czy kobiece?\n\nDoktor Mortimer patrzył na nas przez chwilę dziwnemi oczyma, wreszcie\nodparł szeptem:\n\n-- Panie Holmes, były ślady kroków... psa... olbrzymiego.\n\n\n\n\nIII.\n\nZagadka.\n\n\nPrzyznaję, że gdym słuchał tego opowiadania, przebiegały po mnie\ndreszcze. I doktor był żywo poruszony.\n\n-- Widziałeś pan te ślady? -- spytałem.\n\n-- Tak, na własne oczy; tak wyraźnie, jak teraz widzę pana.\n\n-- I nic pan nie mówiłeś?\n\n-- Po co?\n\n-- Dlaczego nikt inny nie dostrzegł tych śladów?\n\n-- Pozostały o jakie dwa łokcie od trupa; nie zwrócono na nie uwagi\ni jabym ich nie zauważył, gdybym nie był znał tej legendy.\n\n-- Dużo jest psów w okolicy.\n\n-- Tak, ale to nie był zwykły pies. Powiedziałem już panom, że był\nogromny.\n\n-- Czy nie zbliżył się do trupa?\n\n-- Nie.\n\n-- Czy noc była jasna?\n\n-- Nie; pochmurna i wilgotna.\n\n-- Ale deszcz nie padał?\n\n-- Nie.\n\n-- Jak wygląda aleja?\n\n-- Jest wysadzana dwoma rzędami wiązów i opasana żywopłotem,\nwysokości 12 stóp. Sama aleja ma 8 stóp szerokości.\n\n-- Czy jest co pomiędzy żywopłotem a aleją?\n\n-- Tak; po obu stronach biegnie trawnik, szerokości 6 stóp.\n\n-- O ile zrozumiałem, jest wejście przez furtkę?\n\n-- Tak; furtka prowadzi na łąkę.\n\n-- Czy są inne wejścia?\n\n-- Niema.\n\n-- Tak, iż aby wkroczyć w Aleję Wiązów, trzeba wyjść z domu, lub\niść przez łąkę?\n\n-- Jest trzecie wejście przez altanę, na drugim końcu alei.\n\n-- Czy sir Karol doszedł do tej altany?\n\n-- Nie; znaleziono go o pięćdziesiąt łokci od niej.\n\n-- A teraz, zechciej mi pan powiedzieć, doktorze Mortimer -- będzie to\nszczegół ważny -- czy ślady, któreś pan spostrzegł, pozostały na\nżwirze, czy na trawie?\n\n-- Nie mogłem dojrzeć śladów na trawie.\n\n-- Czy ślady były po tej samej stronie, co furtka?\n\n-- Tak, po tej samej.\n\n-- Bardzo mnie pan zaciekawia. Jeszcze jedno pytanie. Czy furtka była\nzamknięta?\n\n-- Zamknięta na klucz i zaryglowana.\n\n-- Jak jest wysoka?\n\n-- Ma około 4-ch stóp.\n\n-- A więc można ją łatwo przesadzić?\n\n-- Tak.\n\n-- A jakie ślady znalazłeś pan przy furtce?\n\n-- Żadnych, któreby mogły zwrócić uwagę.\n\n-- Czyżeś pan nie oglądał ziemi dokoła?\n\n-- I owszem, oglądałem.\n\n-- I nie dostrzegłeś pan żadnych śladów?\n\n-- Były bardzo niewyraźne. Widocznie sir Karol stał tutaj przez pięć\ndo dziesięciu minut.\n\n-- Skąd pan to wie?\n\n-- Gdyż popiół z cygara spadł dwa razy na ziemię.\n\n-- Wybornie. Znaleźliśmy kolegę wedle naszego serca. Prawda, Watson?\nAle jakież to były ślady?\n\n-- Ślady stóp na żwirze. Innych znaków dostrzedz nie mogłem.\n\nSherlock Holmes uderzył ręką w kolano.\n\n-- Czemu mnie tam nie było! -- zawołał. -- Jest to wypadek bardzo\nciekawy, dający obfite pole do naukowej ekspertyzy. Czemuż nie mogłem\nodczytać tej żwirowej karty, zanim ją zatarły inne stopy! Doktorze\nMortimer, że też mnie pan nie uwiadomił wcześniej! Jeśli nam się nie\nuda wyświetlić sprawy, cała odpowiedzialność spadnie na pana.\n\n-- Nie mogłem pana wzywać, panie Holmes, bo w takim razie musiałbym\nujawnić te fakty przed całym światem, a mówiłem już, żem sobie tego\nnie życzył. Zresztą... zresztą...\n\n-- Czemu pan nie kończysz?\n\n-- Bywają dziedziny, niedostępne nawet dla najbystrzejszych\ni najdoświadczeńszych detektywów...\n\n-- Chcesz pan powiedzieć, że wchodzi to w zakres rzeczy\nnadprzyrodzonych?\n\n-- Tego nie twierdzę stanowczo.\n\n-- Ale pan tak myślisz w głębi ducha.\n\n-- Od owej tragedyi doszły do mojej świadomości fakty, sprzeczne\nz ogólnemi prawami natury.\n\n-- Naprzykład?\n\n-- Dowiaduję się, że przed tą katastrofą, kilku ludzi widziało na\nłące niezwykłe stworzenie, podobne do złego ducha Baskervillów.\nWszyscy mówią, że był to pies ogromny, przezroczysty. Wypytywałem\ntych ludzi -- jeden z nich jest włościaninem, drugi kowalem,\ntrzeci farmerem. Ich zeznania są jednakowe. W całej okolicy\nzapanował strach przesądny. Nikt po nocy nie przejdzie przez łąkę.\n\n-- I pan, człowiek nauki, wierzy w takie baśnie? -- zawołał Holmes.\n\n-- Dotychczas moje badania ogarniały świat zmysłów; usiłowałem\nwalczyć z chorobą, ale ze złymi duchami walczyć nie umiem. Zresztą\nmusisz pan przyznać, że ślady stóp są dowodem materyalnym. Pies\nHugona nie był także zjawiskiem nadprzyrodzonem skoro mógł zagryźć\nna śmierć, a jednak miał w sobie coś szatańskiego.\n\n-- Widzę, że pan przeszedłeś do obozu spirytystów. Ale zechciej mi\npowiedzieć jeszcze jedno, doktorze Mortimer. Jeżeli pan skłaniasz się\nku takim zapatrywaniom, dlaczego przyszedłeś zasięgnąć mojej rady?\nPowiadasz pan jednym tchem, że nie warto przeprowadzać śledztwa\nw sprawie zabójstwa sir Karola, a jednocześnie prosisz mnie, żebym się\ntą sprawą zajął.\n\n-- Nie prosiłem o to.\n\n-- Więc w jaki sposób mogę panu dopomódz?\n\n-- Radząc mi, co mam zrobić z sir Henrykiem Baskerville, który\nprzybywa na dworzec Waterloo -- doktor Mortimer spojrzał na zegarek --\nza godzinę i kwadrans -- dokończył.\n\n-- Czy on jest spadkobiercą?\n\n-- Tak. Po śmierci sir Karola zasięgaliśmy wiadomości o tym\ngentlemanie i dowiedzieliśmy się, że ma fermę w Kanadzie. Wedle\nnaszych informacyj, jest to młodzieniec bez zarzutu. Nie mówię teraz\njako lekarz, lecz jako wykonawca testamentu sir Karola.\n\n-- Czy niema innych kandydatów do spadku?\n\n-- Żadnego. Mógłby nim być tylko Roger Baskerville, najmłodszy\nz trzech braci, z których sir Karol był najstarszym. Drugi brat, zmarły\nprzedwcześnie, był właśnie ojcem owego Henryka. Trzeci, Roger, był\nsynem marnotrawnym, żywą podobizną duchową starego Hugona. Tyle\nnabroił w Anglii, że nie mógł już tu przebywać, uciekł do Ameryki\nśrodkowej i umarł w roku 1876-ym na żółtą febrę. Henryk jest\nostatnim z Baskervillów. Za godzinę i pięć minut mam go spotkać\nna dworcu Waterloo. Miałem depeszę z uwiadomieniem, iż przybył dziś\ndo Southampton. A teraz, panie Holmes, powiedz, jak mi radzisz postąpić?\n\n-- Dlaczego sir Henryk nie miałby wrócić do domu swych ojców?\n\n-- Wydaje się to rzeczą naturalną, a jednak, jeśli weźmiemy pod\nuwagę, że każdego z Baskervillów, który tam przebywa, czeka śmierć\nnagła i gwałtowna... Jestem pewien, że gdyby sir Karol mógł był ze\nmną mówić przed katastrofą, byłby mi zakazał wprowadzać ostatniego\nz rodu do owej przeklętej rezydencyi. Z drugiej strony, dobrobyt\ncałej okolicy zależy od przebywania dziedzica w Baskerville Hall.\nCałe dzieło, zapoczątkowane przez sir Karola, pójdzie w niwecz,\njeśli nikt nie zamieszka na zamku. Boję się, aby dobro tej okolicy\nnie skłoniło mnie do nielojalnego postąpienia z sir Henrykiem\ni dlatego proszę pana o radę.\n\nHolmes zastanawiał się długą chwilę.\n\n-- Zatem -- odezwał się -- według pańskiego przekonania, jakaś siła\nnieczysta grozi w tych stronach Baskervillom. Wszak pan w to wierzy\nświęcie?\n\n-- Gotów jestem przypuszczać, że tak jest.\n\n-- W takim razie, ta siła nieczysta może pastwić się nad Baskervillem\nrównie dobrze w Londynie, jak i w Devonshire. Szatan, którego\ndziałanie byłoby umiejscowione, nie byłby groźnym.\n\n-- Starasz się pan ośmieszyć moją obawę, panie Holmes. Lecz gdybyś\nsam widział te rzeczy nadprzyrodzone, odechciałoby ci się żartów.\nZ pańskich słów miarkuję, że ów młodzieniec jest równie bezpieczny\nw Londynie, jak i w Devonshire. Przybywa za pięćdziesiąt minut. Cóż\nmi pan radzisz?\n\n-- Radzę wziąć dorożkę, zawołać psa, który skowyczy za drzwiami\ni jechać na dworzec Waterloo na spotkanie sir Henryka Baskerville.\n\n-- A potem?\n\n-- A potem nic mu pan nie powiesz, dopóki nie namyślę się w tym\nwzględzie.\n\n-- Jak długo potrzebujesz pan namyślać się?\n\n-- Dwadzieścia cztery godziny. Poproszę cię, doktorze Mortimer, abyś\nmnie odwiedził jutro rano o dziesiątej. A zechciej przywieźć ze sobą\nsir Henryka Baskerville. To mi ułatwi wykonanie mego planu.\n\n-- Zrobię, jak pan chcesz.\n\nDoktor zapisał godzinę na mankiecie i wyszedł. Pan Holmes zatrzymał go\nna schodach.\n\n-- Jeszcze jedno pytanie -- rzekł. -- Powiadasz pan, że przed śmiercią\nsir Karola kilku ludzi widziało to zjawisko na łące?\n\n-- Tak, trzech ludzi.\n\n-- Czy który z nich widział je potem?\n\n-- Nie wiem.\n\n-- Dziękuję panu. Dowidzenia.\n\nHolmes powrócił na swoje miejsce. Był widocznie zadowolony.\n\n-- Wychodzisz, Watson? -- rzekł.\n\n-- Czy potrzebujesz mojej pomocy?\n\n-- Nie, mój drogi. Poproszę cię o nią dopiero w chwili działania.\nSprawa wyjątkowa. Przechodząc obok Bradleya, zechciej wstąpić do\nsklepu i każ mi przynieść paczkę najmocniejszego tytoniu. Jeżeli\nmożesz, byłbym ci bardzo obowiązany, gdybyś tu nie wracał przed\nwieczorem, a wtedy zestawimy nasze wrażenia i poglądy.\n\nWiedziałem, że samotność jest niezbędną mojemu przyjacielowi\nw chwilach, gdy zastanawiał się nad poszlakami spraw kryminalnych, gdy\nwyciągał wnioski i tworzył teorye, które okazywały się zawsze\nsłusznemi. To też cały dzień spędziłem w klubie i dopiero około\ndziewiątej powróciłem do mieszkania przy Bakerstreet.\n\nGdy drzwi otworzyłem, zdało mi się, że w mieszkaniu był pożar;\nświatło lampy ukazywało się jakby za czarną mgłą. Po chwili\nzmiarkowałem, że dym pochodzi nie od ognia, lecz od mocnego tytoniu.\nWśród kłębów ujrzałem Holmesa w szlafroku. Siedział w fotelu\nz fajeczką w ustach. Na stole leżało kilka zwitków papieru.\nOdkaszlnąłem.\n\n-- Zaziębiłeś się? -- spytał.\n\n-- Nie, ale można się tu udusić.\n\n-- Otwórz okno. Widzę, że spędziłeś cały dzień w klubie...\n\n-- Po czem to miarkujesz, Holmes?\n\n-- Jesteś rzeźwy, pachnący, w dobrym humorze. Nigdy nie domyślisz się,\ngdzie ja byłem.\n\n-- Nie będę nad tem suszył głowy. Powiesz mi sam.\n\n-- A więc byłem w Devonshire.\n\n-- Myślą?\n\n-- Tak. Moje ciało pozostało tutaj, na tym fotelu, i skonsumowało dwa\nolbrzymie imbryki kawy i niezliczoną moc tytoniu. Po twojem wyjściu\nposłałem do Stamforda po mapę tej okolicy i błądziłem po niej przez\ndzień cały. Pochlebiam sobie, że każda piędź ziemi jest mi teraz\ndobrze znana.\n\n-- To zapewne mapa o wielkiej skali?\n\n-- Tak.\n\nRozwinął ją i położył na kolanie.\n\n-- Widzisz -- mówił -- oto łąka, a to -- Baskerville Hall.\n\n-- Naokoło las.\n\n-- Istotnie. A oto Aleja Wiązów, na lewo od łąki. Tu jest wioska\nGrimpen, w której doktor Mortimer obrał swoją główną kwaterę.\nW obrębie mil pięciu mało jest ludzkich siedzib. Oto Lafter Hall.\nTu -- domek przyrodnika Stapleton. Tutaj dwie formy: High Tore\ni Fulmire. O czternaście mil dalej -- więzienie państwowe Princetown.\nDokoła i pośrodku -- łąki i trzęsawiska. Taki jest teren, na którym\nrozegrała się owa tragedya. Postaramy się odtworzyć wszystkie jej\nsceny i akty.\n\n-- Miejscowość bezludna.\n\n-- Tak. Dyabeł mógł się na niej rozgościć...\n\n-- A zatem i pan skłaniasz się do nadprzyrodzonych wyjaśnień...",
            "text/plain": [
              "<IPython.core.display.Markdown object>"
            ]
          },
          "execution_count": 15,
          "metadata": {},
          "output_type": "execute_result"
        }
      ],
      "source": [
        "Markdown(chunks[1])"
      ]
    },
    {
      "cell_type": "code",
      "execution_count": 16,
      "metadata": {
        "id": "MjC04LezATAT"
      },
      "outputs": [
        {
          "data": {
            "text/markdown": "## The Hound of the Baskervilles: Chapter 3\n\nDoctor Mortimer finished reading the extraordinary tale, pushed his spectacles up his nose, and looked at Mr. Sherlock Holmes. The latter yawned and threw his cigarette into the fire.\n\n\"Well?\" he said.\n\n\"Is not the story interesting?\"\n\n\"Indeed, for a collector of old legends and fairy tales.\"\n\nDoctor Mortimer pulled a newspaper from his pocket.\n\n\"Now, Mr. Holmes,\" he said, \"I will show you something more current. Here is the *Devon County Chronicle* from the 14th of May, this year. It describes the facts concerning the death of Sir Charles Baskerville, which occurred a few days before that date.\"\n\nMy friend leaned forward and began to listen more intently. Doctor Mortimer read:\n\n\"The recent and sudden death of Sir Charles Baskerville, the liberal candidate from the County of Devon, has taken our entire community by surprise and terror. Although Sir Charles Baskerville has only lived in Baskerville Hall for a short time, his kindness, generosity, and nobility earned him the respect of all who knew him. In this age of parvenus, it is delightful to see a descendant of an ancient, albeit declining lineage, reclaim the fortune of his ancestors and restore the glory to his old name.\n\n\"Sir Charles, as is known, acquired a great fortune through speculation in South Africa. Being naturally prudent, he did not further tempt fate, which can turn against others as it does with many. Having realized his fortune, he returned to England.\n\n\"Only two years ago he settled in Baskerville Hall. His broad plans to renovate the old manor and introduce improvements to the farm are well-known. Death prevented their realization.\n\n\"Being childless, he desired that the whole region benefit from his fortune, and many neighbors have good reason to mourn his untimely passing. We have often reported on his generous donations to public institutions in these columns.\n\n\"The investigation has not yet clarified the circumstances surrounding Sir Charles' death. The most bizarre legends circulate, attributing this sudden demise to supernatural forces.\n\n\"Sir Charles was a widower, and he was generally considered an eccentric. Despite his vast wealth, he had simple, modest habits. The staff at Baskerville Hall consisted of a butler named Barrymore, his wife, a cook, and a housekeeper in one person. Both testify that Sir Charles' health was frail in recent times, and that he developed a heart condition, manifested by paleness, shortness of breath, and frequent fainting spells. Doctor George Mortimer, a friend and personal physician of the deceased, gave testimony in the same vein.\n\n\"Sir Charles Baskerville used to take a walk every evening before retiring, along the famous avenue of beeches in front of the castle. The Barrymores recount that on the evening of the 4th of May, their master informed them that he would be leaving for London the next day and instructed them to pack his suitcase.\n\n\"That evening he went out for his walk, as usual, during which he smoked a cigar.\n\n\"He never returned from this walk.\n\n\"At twelve o'clock, Barrymore, seeing the front door still open, became concerned and, taking a lantern, went in search of his master. It had rained during the day, so it was easy to see Sir Charles' footprints along the avenue. Halfway down, there is a gate leading to a meadow.\n\n\"There were signs that Sir Charles had stood by the gate for some time, then turned back into the avenue. His body was found at the end of the avenue.\n\n\"Among other things, one fact arising from Barrymore's testimony remains unexplained, namely that his master's footprints changed when he stood by the gate and that from that point forward he walked on tiptoes.\n\n\"A certain Murphy, a Gypsy who dealt in horses, was at that time on the meadow, some distance from the deceased, but he himself admits that he was intoxicated. He claims to have heard shouts, but cannot specify where they came from.\n\n\"There were no signs of violence or assault on Sir Charles' body, and although the doctor testifies that the deceased's facial expression was so altered that he, Doctor Mortimer, could not recognize him at first, the experts explain this by an aneurysm of the heart, which produces similar symptoms.\n\n\"The autopsy revealed an old heart defect, and the coroner confirmed the medical examination. It is desirable that Sir Charles' heir can take possession of the estate as soon as possible and continue the noble work interrupted so suddenly and tragically.\n\n\"If the prosaic verdict of the coroner and the experts had not put an end to the romantic stories circulating about this death, it would not be easy to find an owner for Baskerville Hall.\n\n\"The presumed heir is Mr. Henry Baskerville, the son of Sir Charles' younger brother. This young man left for America some years ago. A search has been ordered. He will surely learn about the change in his fortune soon.\"\n\n       *       *       *       *       *\n\nDoctor Mortimer put the newspaper down and tucked it into his pocket, saying:\n\n\"These are the facts, publicly known.\"\n\n\"Thank you for drawing my attention to a truly interesting case,\" said Mr. Holmes. \"I did read about it, of course, in the newspapers, but at that time I was occupied with the cameos that disappeared from the Vatican Museum. I wanted to help the Pope and lost sight of what was happening in England at the same time. This article, you say, contains facts known to everyone?\"\n\n\"Yes.\"\n\n\"Then be so kind as to inform me now of what no one else knows.\"\n\nSherlock Holmes leaned back on the armchair and again folded his hands so that his fingers touched at the ends.\n\n\"I will do so,\" said Doctor Mortimer, betraying increasing agitation. \"I will tell you what I have not told anyone else. I concealed it from the coroner for reasons that you will surely understand. As a man of science, I did not want to reveal publicly that I believe in superstitions. Furthermore, I understood that if the belief in supernatural forces ruling Baskerville Hall were to solidify, no one would want to take possession of the old castle. For these two reasons, I did not testify before the court about everything I know – because it would have been useless to the coroner – but with you I will be completely honest.\n\n\"The area is sparsely populated, residences are scarce, and the manor houses are scattered over a considerable distance from each other.\n\n\"I often saw Sir Charles Baskerville, who craved company. Apart from Mr. Frankland at Lafter Hall and the naturalist, Mr. Stapleton, there are no intelligent people nearby. Sir Charles was secretive and taciturn. We became close because of his illness, and we were united by shared scientific interests. He brought back many interesting discoveries from South Africa. We spent many a pleasant evening discussing comparative anatomy.\n\n\"Over the last few months, I noticed that Sir Charles' nervous system was strained. He took this legend so much to heart that, although he went for walks every evening, nothing could persuade him to enter the meadow after sunset. He was constantly haunted by the fear of phantoms, and he often asked me if I hadn't seen some strange creature and if I hadn't heard any barking. He always asked these questions in a trembling voice.\n\n\"One of my visits to him three weeks ago is etched in my memory. He stood in the hallway. As I got out of the carriage, I noticed that he was looking over my shoulder with fear in his eyes. I turned and saw a strange shape, resembling a large, black calf. It dashed past my carriage.\n\n\"Sir Charles was so agitated that I went in search of this peculiar animal. But it was nowhere to be found. My patient could not calm down. I stayed with him all evening, and then, explaining his agitation, he told me the whole story.\n\n\"I mention this minor episode because it takes on significance in light of the tragedy that followed. At the time, I didn't attach any importance to it and was surprised by Sir Charles' agitation.\n\n\"He was to go to London on my advice. I knew he had a weak heart and that constant worry was bad for his health. I thought that a few months spent on entertainment would free him from these nightmares and visions. Our mutual friend, Mr. Stapleton, was of the same opinion. And so the misfortune arose.\n\n\"Immediately after Sir Charles' death, the butler Barrymore sent me a groom, Perkins. I arrived at Baskerville Hall an hour after the catastrophe. I examined all the facts presented in the inquest. I followed the footprints left on the Avenue of Beeches, inspected the place by the gate where Sir Charles stopped, and realized that from that point he walked on tiptoes and that there was no trace of other footsteps except for Barrymore's later ones. Finally, I carefully inspected the body, which remained untouched until my arrival.\n\n\"Sir Charles lay on his back with outstretched arms, his face so altered that I could barely recognize it. There were no injuries on the body. But Barrymore made one false statement during the inquest. He said there were no traces around the body. He did not notice them, but I did – completely fresh, nearby.\n\n\"Were they footprints?\"\n\n\"Yes.\"\n\n\"Male or female?\"\n\nDoctor Mortimer looked at us for a moment with strange eyes, finally answering in a whisper:\n\n\"Mr. Holmes, there were the footprints... of a dog... a huge one.\"\n\n\n## III. The Enigma.\n\nI confess that chills ran down my spine as I listened to this tale. And the doctor was visibly shaken.\n\n\"Did you see these footprints?\" I asked.\n\n\"Yes, with my own eyes, as clearly as I see you now.\"\n\n\"And you said nothing?\"\n\n\"Why?\"\n\n\"Why didn't anyone else see these tracks?\"\n\n\"They were about two cubits from the body, they weren't noticed, and I wouldn't have noticed them myself if I hadn't known the legend.\"\n\n\"There are many dogs in the area.\"\n\n\"Yes, but this was no ordinary dog. I already told you that it was enormous.\"\n\n\"Didn't it come near the body?\"\n\n\"No.\"\n\n\"Was the night clear?\"\n\n\"No, overcast and damp.\"\n\n\"But it wasn't raining?\"\n\n\"No.\"\n\n\"What does the avenue look like?\"\n\n\"It is planted with two rows of beeches and enclosed by a hedge 12 feet high. The avenue itself is 8 feet wide.\"\n\n\"Is there anything between the hedge and the avenue?\"\n\n\"Yes, a lawn 6 feet wide runs along both sides.\"\n\n\"As I understand it, there is a gate for entry?\"\n\n\"Yes, the gate leads to the meadow.\"\n\n\"Are there other entrances?\"\n\n\"No.\"\n\n\"So, to enter the Avenue of Beeches, one must either exit the house or go through the meadow?\"\n\n\"There is a third entrance through the gazebo, at the other end of the avenue.\"\n\n\"Did Sir Charles reach that gazebo?\"\n\n\"No, he was found fifty cubits away from it.\"\n\n\"Now, tell me, Doctor Mortimer – this will be an important detail – were the footprints you saw left on gravel or grass?\"\n\n\"I couldn't see any tracks on the grass.\"\n\n\"Were the tracks on the same side as the gate?\"\n\n\"Yes, on the same side.\"\n\n\"You're very intriguing, sir. One more question. Was the gate closed?\"\n\n\"Locked and bolted.\"\n\n\"How tall is it?\"\n\n\"About 4 feet.\"\n\n\"So, it's easy to climb over?\"\n\n\"Yes.\"\n\n\"And what tracks did you find by the gate?\"\n\n\"None that would attract attention.\"\n\n\"Didn't you look at the ground around it?\"\n\n\"Of course I did.\"\n\n\"And you didn't see any tracks?\"\n\n\"They were very faint. Sir Charles must have stood here for five to ten minutes.\"\n\n\"How do you know?\"\n\n\"Because cigar ash fell to the ground twice.\"\n\n\"Excellent. We've found a companion after our own heart. Isn't that right, Watson? But what were those tracks like?\"\n\n\"Footprints on the gravel. I couldn't discern any other signs.\"\n\nSherlock Holmes slapped his knee.\n\n\"Why wasn't I there!\" he exclaimed. \"This is a very interesting case, offering ample scope for scientific expertise. Why couldn't I read that gravel card before other feet erased it! Doctor Mortimer, you didn't tell me sooner! If we fail to unravel this affair, all the responsibility will fall on you.\"\n\n\"I couldn't call you, Mr. Holmes, because then I would have had to disclose these facts to the whole world, and I've already said I didn't want that. Besides... besides...\"\n\n\"Why don't you finish?\"\n\n\"There are areas inaccessible even to the most astute and experienced detectives...\"\n\n\"Do you mean to say that this falls within the realm of supernatural things?\"\n\n\"I'm not asserting that.\"\n\n\"But you think so deep down.\"\n\n\"Since that tragedy, facts have come to my attention that contradict the general laws of nature.\"\n\n\"For example?\"\n\n\"I learn that before the catastrophe, several people saw a strange creature on the meadow, similar to the evil spirit of the Baskervilles. Everyone says it was a huge, transparent dog. I questioned these people – one of them is a peasant, another is a blacksmith, the third is a farmer. Their testimonies are identical. Superstitious fear has gripped the whole area. No one will cross the meadow at night.\"\n\n\"And you, a man of science, believe in such tales?\" Holmes exclaimed.\n\n\"Until now, my investigations have encompassed the world of the senses. I have tried to fight disease, but I don't know how to fight evil spirits. Besides, you must admit that the footprints are material evidence. Hugo's dog was not a supernatural phenomenon either, since it could kill with its teeth, yet it had something devilish about it.\"\n\n\"I see you've joined the camp of the Spiritualists. But tell me one more thing, Doctor Mortimer. If you're inclined to such beliefs, why did you come to seek my advice? You say in one breath that it's not worth investigating Sir Charles' murder, and at the same time you ask me to take on the case.\"\n\n\"I didn't ask for that.\"\n\n\"Then how can I help you?\"\n\n\"By advising me what to do with Sir Henry Baskerville, who is arriving at Waterloo Station –\" Doctor Mortimer glanced at his watch – \"in an hour and fifteen minutes,\" he finished.\n\n\"Is he the heir?\"\n\n\"Yes. After Sir Charles' death, we inquired about this gentleman and learned that he has a farm in Canada. According to our information, he is a respectable young man. I speak now not as a doctor, but as executor of Sir Charles' will.\"\n\n\"Are there no other candidates for the inheritance?\"\n\n\"None. It could only be Roger Baskerville, the youngest of the three brothers, of whom Sir Charles was the eldest. The second brother, who died prematurely, was the father of this Henry. The third, Roger, was a prodigal son, the living embodiment of old Hugo. He caused so much trouble in England that he could no longer stay here, fled to Central America, and died in 1876 of yellow fever. Henry is the last of the Baskervilles. In an hour and five minutes, I'm to meet him at Waterloo Station. I had a telegram informing me that he arrived in Southampton today. And now, Mr. Holmes, tell me, what do you advise me to do?\"\n\n\"Why shouldn't Sir Henry return to the home of his fathers?\"\n\n\"It seems like a natural thing to do, yet when you consider that every Baskerville who stays there faces a sudden and violent death... I'm sure that if Sir Charles could have spoken to me before the catastrophe, he would have forbidden me from bringing the last of the lineage to that cursed residence. On the other hand, the well-being of the entire region depends on the heir's presence at Baskerville Hall. The entire work begun by Sir Charles will be wasted if no one lives in the castle. I'm afraid that the good of this area might lead me to act disloyally towards Sir Henry, and that's why I'm asking you for advice.\"\n\nHolmes pondered for a long moment.\n\n\"So,\" he said, \"according to your belief, some evil force threatens the Baskervilles in these parts. You truly believe that, don't you?\"\n\n\"I'm ready to assume that it is so.\"\n\n\"In that case, this evil force can torment Baskerville just as well in London as in Devonshire. A devil whose activity would be confined would not be a threat.\"\n\n\"You're trying to make a mockery of my fear, Mr. Holmes. But if you yourself saw these supernatural things, you would lose your desire for jokes. From your words, I deduce that the young man is just as safe in London as in Devonshire. He's arriving in fifty minutes. What do you advise me to do?\"\n\n\"I advise you to take a cab, call the dog that's whimpering at the door, and go to Waterloo Station to meet Sir Henry Baskerville.\"\n\n\"And then?\"\n\n\"And then you say nothing to him until I've thought this over.\"\n\n\"How long will you need to think?\"\n\n\"Twenty-four hours. I ask you, Doctor Mortimer, to visit me tomorrow morning at ten. And bring Sir Henry Baskerville with you. That will make it easier for me to carry out my plan.\"\n\n\"I'll do as you wish.\"\n\nThe doctor noted the time on his cuff and went out. Holmes stopped him on the stairs.\n\n\"One more question,\" he said. \"You say that before Sir Charles' death, several people saw this phenomenon on the meadow?\"\n\n\"Yes, three people.\"\n\n\"Did any of them see it afterwards?\"\n\n\"I don't know.\"\n\n\"Thank you. Goodbye.\"\n\nHolmes returned to his seat. He was visibly satisfied.\n\n\"You're leaving, Watson?\" he said.\n\n\"Do you need my assistance?\"\n\n\"No, my dear fellow. I won't need it until the moment of action. Exceptional case. As you pass by Bradley's, please stop by the shop and have them bring me a packet of the strongest tobacco. If you can, I would be very grateful if you wouldn't return before evening, and then we'll compare our impressions and views.\"\n\nI knew that solitude was essential for my friend when he was pondering the clues of criminal cases, when he was drawing conclusions and forming theories that always proved to be correct. So I spent the whole day at the club and only returned to the apartment on Baker Street around nine o'clock.\n\nAs I opened the door, it seemed to me that there was a fire in the apartment. The lamplight appeared as if behind a black fog. After a moment, I realized that the smoke came not from fire, but from strong tobacco. Amidst the clouds, I saw Holmes in a dressing gown. He sat in an armchair with a pipe in his mouth. Several rolls of paper lay on the table. I coughed.\n\n\"Have you caught a cold?\" he asked.\n\n\"No, but you can suffocate here.\"\n\n\"Open the window. I see you spent the whole day at the club...\"\n\n\"How do you know that, Holmes?\"\n\n\"You're fresh, perfumed, in a good mood. You'll never guess where I was.\"\n\n\"I won't rack my brains over it. You'll tell me yourself.\"\n\n\"So, I was in Devonshire.\"\n\n\"In your mind?\"\n\n\"Yes. My body remained here, in this armchair, and consumed two huge pots of coffee and countless amounts of tobacco. After you left, I sent for Stamford to get a map of the area, and I wandered around it all day. I flatter myself that every inch of land is now well-known to me.\"\n\n\"That must be a large-scale map?\"\n\n\"Yes.\"\n\nHe unrolled it and laid it on his lap.\n\n\"See,\" he said, \"here's the meadow, and here's Baskerville Hall.\"\n\n\"A forest around it.\"\n\n\"Indeed. And here's the Avenue of Beeches, to the left of the meadow. Here's the village of Grimpen, where Doctor Mortimer took up his main quarters. Within a radius of five miles, there are few human dwellings. Here's Lafter Hall. Here's the naturalist Stapleton's cottage. Here are two farms: High Tore and Fulmire. Fourteen miles further – the state prison of Princetown. Around and in the middle – meadows and swamps. This is the terrain on which this tragedy unfolded. We'll try to recreate all its scenes and acts.\"\n\n\"A deserted area.\"\n\n\"Yes. The devil could have made himself comfortable there...\"\n\n\"So, you're inclined towards supernatural explanations...\"",
            "text/plain": [
              "<IPython.core.display.Markdown object>"
            ]
          },
          "execution_count": 16,
          "metadata": {},
          "output_type": "execute_result"
        }
      ],
      "source": [
        "Markdown(results[1])"
      ]
    },
    {
      "cell_type": "code",
      "execution_count": 17,
      "metadata": {
        "id": "jXlAr8smUzV_"
      },
      "outputs": [],
      "source": [
        "translated_texts = [result[0] for result in results if isinstance(result, tuple)]\n",
        "\n",
        "# join the results together by double whitespace\n",
        "translated_book = \"\\n\\n\".join(translated_texts)\n",
        "\n",
        "# save the translated book\n",
        "with open(f\"/content/translated_book.txt\", \"w\") as f:\n",
        "  f.write(translated_book)"
      ]
    },
    {
      "cell_type": "markdown",
      "metadata": {
        "id": "eA-ro5jwk_uw"
      },
      "source": [
        "## Next steps\n",
        "\n",
        "Now you know how to properly prepare data, check token limitations and translate each chunk to obtain your results. Feel free to try this process with a book that interests you!"
      ]
    }
  ],
  "metadata": {
    "colab": {
      "name": "Translate_a_Public_Domain_Book.ipynb",
      "toc_visible": true
    },
    "kernelspec": {
      "display_name": "Python 3",
      "name": "python3"
    }
  },
  "nbformat": 4,
  "nbformat_minor": 0
}
